{
 "cells": [
  {
   "cell_type": "code",
   "execution_count": 26,
   "id": "545398cb",
   "metadata": {},
   "outputs": [],
   "source": [
    "import torch\n",
    "import math\n",
    "import numpy as np\n",
    "import os\n",
    "import pandas as pd\n",
    "\n",
    "from models.dynamic_net import Vcnet, TR #Drnet\n",
    "from data.data import get_iter\n",
    "from utils.eval import curve\n",
    "\n",
    "#import argparse\n",
    "\n",
    "import matplotlib.pyplot as plt\n",
    "from scipy.stats import norm"
   ]
  },
  {
   "cell_type": "code",
   "execution_count": 290,
   "id": "3b20835b",
   "metadata": {},
   "outputs": [
    {
     "name": "stdout",
     "output_type": "stream",
     "text": [
      "generating eval set:  0\n",
      "generating eval set:  0\n",
      "generating eval set:  0\n",
      "generating eval set:  0\n",
      "generating eval set:  0\n",
      "generating eval set:  0\n"
     ]
    }
   ],
   "source": [
    "!python simu2_generate_data.py"
   ]
  },
  {
   "cell_type": "code",
   "execution_count": 142,
   "id": "5f5c298f",
   "metadata": {},
   "outputs": [],
   "source": [
    "def split(dat, t_grid, inf_ratio = 0.3):\n",
    "    n_sample = len(t_grid[0])\n",
    "    n_train = round(n_sample * (1-inf_ratio))\n",
    "\n",
    "    perm = np.random.permutation(n_sample)\n",
    "    dat = dat[perm, :]\n",
    "    t_grid = t_grid[:, perm]\n",
    "    training = dat[:n_train, :]\n",
    "    testing = dat[(n_train+1):, :]\n",
    "    t_grid_test = t_grid[:, (n_train+1):]\n",
    "    return torch.from_numpy(training).float(), torch.from_numpy(testing).float(), torch.from_numpy(t_grid_test).float()"
   ]
  },
  {
   "cell_type": "code",
   "execution_count": 299,
   "id": "a5ebbde4",
   "metadata": {},
   "outputs": [],
   "source": [
    "inf_ratio = 0.15"
   ]
  },
  {
   "cell_type": "code",
   "execution_count": 291,
   "id": "5f4d33ff",
   "metadata": {},
   "outputs": [],
   "source": [
    "data = pd.read_csv(load_path + '/delta_0_data.txt', header=None, sep=' ')\n",
    "data = data.to_numpy()\n",
    "t_grid_dat = pd.read_csv(load_path + '/delta_0_t_grid.txt', header=None, sep=' ')\n",
    "t_grid_dat = t_grid_dat.to_numpy()\n",
    "train_matrix, test_matrix, t_grid = split(data, t_grid_dat, inf_ratio)"
   ]
  },
  {
   "cell_type": "code",
   "execution_count": 292,
   "id": "b5e2c8fb",
   "metadata": {},
   "outputs": [],
   "source": [
    "class args_:\n",
    "    data_dir = 'dataset/simu2/eval/0'\n",
    "    save_dir = 'logs/simu2/eval'\n",
    "    n_epochs = 800\n",
    "    verbose = 100\n",
    "    plt_adrf = True\n",
    "    \n",
    "args = args_"
   ]
  },
  {
   "cell_type": "code",
   "execution_count": 116,
   "id": "de566f28",
   "metadata": {},
   "outputs": [],
   "source": [
    "def adjust_learning_rate(optimizer, init_lr, epoch):\n",
    "    if lr_type == 'cos':  # cos without warm-up\n",
    "        lr = 0.5 * init_lr * (1 + math.cos(math.pi * epoch / num_epoch))\n",
    "    elif lr_type == 'exp':\n",
    "        step = 1\n",
    "        decay = 0.96\n",
    "        lr = init_lr * (decay ** (epoch // step))\n",
    "    elif lr_type == 'fixed':\n",
    "        lr = init_lr\n",
    "    else:\n",
    "        raise NotImplementedError\n",
    "    for param_group in optimizer.param_groups:\n",
    "        param_group['lr'] = lr\n",
    "    return lr\n",
    "\n",
    "def save_checkpoint(state, checkpoint_dir='.'):\n",
    "    filename = os.path.join(checkpoint_dir, model_name + '_ckpt.pth.tar')\n",
    "    print('=> Saving checkpoint to {}'.format(filename))\n",
    "    torch.save(state, filename)\n",
    "\n",
    "# criterion\n",
    "def criterion(out, y, alpha=0.5, epsilon=1e-6):\n",
    "    return ((out[1].squeeze() - y.squeeze())**2).mean() - alpha * torch.log(out[0] + epsilon).mean()\n",
    "\n",
    "def criterion_TR(out, trg, y, beta=1., epsilon=1e-6):\n",
    "    # out[1] is Q\n",
    "    # out[0] is g\n",
    "    return beta * ((y.squeeze() - trg.squeeze()/(out[0].squeeze() + epsilon) - out[1].squeeze())**2).mean()"
   ]
  },
  {
   "cell_type": "code",
   "execution_count": 293,
   "id": "2b3a5d51",
   "metadata": {},
   "outputs": [],
   "source": [
    "# optimizer\n",
    "lr_type = 'fixed'\n",
    "wd = 5e-3\n",
    "momentum = 0.9\n",
    "# targeted regularization optimizer\n",
    "tr_wd = 5e-3\n",
    "\n",
    "num_epoch = args.n_epochs\n",
    "\n",
    "# check val loss\n",
    "verbose = args.verbose\n",
    "\n",
    "load_path = args.data_dir\n",
    "save_path = args.save_dir\n",
    "if not os.path.exists(save_path):\n",
    "    os.makedirs(save_path)\n",
    "\n",
    "train_loader = get_iter(train_matrix, batch_size=train_matrix.shape[0], shuffle=True)\n",
    "test_loader = get_iter(test_matrix, batch_size=test_matrix.shape[0], shuffle=False)"
   ]
  },
  {
   "cell_type": "code",
   "execution_count": 294,
   "id": "f62cd7b8",
   "metadata": {
    "scrolled": true
   },
   "outputs": [
    {
     "name": "stdout",
     "output_type": "stream",
     "text": [
      "model =  Vcnet_tr\n",
      "current epoch:  0\n",
      "loss:  tensor(1.9559)\n",
      "current epoch:  100\n",
      "loss:  tensor(1.7319)\n",
      "current epoch:  200\n",
      "loss:  tensor(1.7248)\n",
      "current epoch:  300\n",
      "loss:  tensor(1.7175)\n",
      "current epoch:  400\n",
      "loss:  tensor(1.7110)\n",
      "current epoch:  500\n",
      "loss:  tensor(1.7065)\n",
      "current epoch:  600\n",
      "loss:  tensor(1.7031)\n",
      "current epoch:  700\n",
      "loss:  tensor(1.7010)\n",
      "current loss:  1.6994318962097168\n",
      "current test loss:  0.10073190927505493\n",
      "-----------------------------------------------------------------\n",
      "=> Saving checkpoint to logs/simu2/eval/Vcnet_tr_ckpt.pth.tar\n",
      "-----------------------------------------------------------------\n"
     ]
    },
    {
     "data": {
      "image/png": "[encoded data removed]",
      "text/plain": [
       "<Figure size 640x480 with 1 Axes>"
      ]
     },
     "metadata": {},
     "output_type": "display_data"
    }
   ],
   "source": [
    "grid = []\n",
    "MSE = []\n",
    "\n",
    "# choose from {'Tarnet', 'Tarnet_tr', 'Drnet', 'Drnet_tr', 'Vcnet', 'Vcnet_tr'}\n",
    "method_list = ['Vcnet_tr']\n",
    "\n",
    "for model_name in method_list:\n",
    "    # import model\n",
    "    if model_name == 'Vcnet' or model_name == 'Vcnet_tr':\n",
    "        cfg_density = [(4, 50, 1, 'relu'), (50, 50, 1, 'relu')]\n",
    "        num_grid = 10\n",
    "        cfg = [(50, 50, 1, 'relu'), (50, 1, 1, 'id')]\n",
    "        degree = 2\n",
    "        knots = [0.33, 0.66]\n",
    "        model = Vcnet(cfg_density, num_grid, cfg, degree, knots)\n",
    "        model._initialize_weights()\n",
    "\n",
    "    elif model_name == 'Drnet' or model_name == 'Drnet_tr':\n",
    "        cfg_density = [(6, 50, 1, 'relu'), (50, 50, 1, 'relu')]\n",
    "        num_grid = 10\n",
    "        cfg = [(50, 50, 1, 'relu'), (50, 1, 1, 'id')]\n",
    "        isenhance = 1\n",
    "        model = Drnet(cfg_density, num_grid, cfg, isenhance=isenhance)\n",
    "        model._initialize_weights()\n",
    "\n",
    "    elif model_name == 'Tarnet' or model_name == 'Tarnet_tr':\n",
    "        cfg_density = [(6, 50, 1, 'relu'), (50, 50, 1, 'relu')]\n",
    "        num_grid = 10\n",
    "        cfg = [(50, 50, 1, 'relu'), (50, 1, 1, 'id')]\n",
    "        isenhance = 0\n",
    "        model = Drnet(cfg_density, num_grid, cfg, isenhance=isenhance)\n",
    "        model._initialize_weights()\n",
    "\n",
    "    # use Target Regularization?\n",
    "    if model_name == 'Vcnet_tr' or model_name == 'Drnet_tr' or model_name == 'Tarnet_tr':\n",
    "        isTargetReg = 1\n",
    "    else:\n",
    "        isTargetReg = 0\n",
    "\n",
    "    if isTargetReg:\n",
    "        tr_knots = list(np.arange(0.1, 1, 0.1))\n",
    "        tr_degree = 2\n",
    "        TargetReg = TR(tr_degree, tr_knots)\n",
    "        TargetReg._initialize_weights()\n",
    "\n",
    "    # best cfg for each model\n",
    "    if model_name == 'Tarnet':\n",
    "        init_lr = 0.05\n",
    "        alpha = 1.0\n",
    "    elif model_name == 'Tarnet_tr':\n",
    "        init_lr = 0.05\n",
    "        alpha = 0.5\n",
    "        tr_init_lr = 0.001\n",
    "        beta = 1.\n",
    "    elif model_name == 'Drnet':\n",
    "        init_lr = 0.05\n",
    "        alpha = 1.\n",
    "    elif model_name == 'Drnet_tr':\n",
    "        init_lr = 0.05\n",
    "        # init_lr = 0.05 tuned\n",
    "        alpha = 0.5\n",
    "        tr_init_lr = 0.001\n",
    "        beta = 1.\n",
    "    elif model_name == 'Vcnet':\n",
    "        init_lr = 0.0001\n",
    "        alpha = 0.5\n",
    "    elif model_name == 'Vcnet_tr':\n",
    "        init_lr = 0.0001\n",
    "        alpha = 0.5\n",
    "        tr_init_lr = 0.001\n",
    "        beta = 1.\n",
    "\n",
    "    optimizer = torch.optim.SGD(model.parameters(), lr=init_lr, momentum=momentum, weight_decay=wd, nesterov=True)\n",
    "\n",
    "    if isTargetReg:\n",
    "        tr_optimizer = torch.optim.SGD(TargetReg.parameters(), lr=tr_init_lr, weight_decay=tr_wd)\n",
    "\n",
    "    print('model = ', model_name)\n",
    "    loss_values = []\n",
    "    for epoch in range(num_epoch):\n",
    "        for idx, (inputs, y) in enumerate(train_loader):\n",
    "            t = inputs[:, 0]\n",
    "            x = inputs[:, 1:]\n",
    "\n",
    "            if isTargetReg:\n",
    "                optimizer.zero_grad()\n",
    "                out = model.forward(t, x)\n",
    "                trg = TargetReg(t)\n",
    "                loss = criterion(out, y, alpha=alpha) + criterion_TR(out, trg, y, beta=beta)\n",
    "                loss.backward()\n",
    "                optimizer.step()\n",
    "\n",
    "                tr_optimizer.zero_grad()\n",
    "                out = model.forward(t, x)\n",
    "                trg = TargetReg(t)\n",
    "                tr_loss = criterion_TR(out, trg, y, beta=beta)\n",
    "                tr_loss.backward()\n",
    "                tr_optimizer.step()\n",
    "            else:\n",
    "                optimizer.zero_grad()\n",
    "                out = model.forward(t, x)\n",
    "                loss = criterion(out, y, alpha=alpha)\n",
    "                loss.backward()\n",
    "                optimizer.step()\n",
    "\n",
    "            loss_values.append(loss.data)\n",
    "\n",
    "        if epoch % verbose == 0:\n",
    "            print('current epoch: ', epoch)\n",
    "            print('loss: ', loss.data)\n",
    "\n",
    "\n",
    "\n",
    "    if isTargetReg:\n",
    "        t_grid_hat, mse = curve(model, test_matrix, t_grid, targetreg=TargetReg)\n",
    "    else:\n",
    "        t_grid_hat, mse = curve(model, test_matrix, t_grid)\n",
    "\n",
    "    mse = float(mse)\n",
    "    print('current loss: ', float(loss.data))\n",
    "    print('current test loss: ', mse)\n",
    "    print('-----------------------------------------------------------------')\n",
    "\n",
    "    save_checkpoint({\n",
    "        'model': model_name,\n",
    "        'best_test_loss': mse,\n",
    "        'model_state_dict': model.state_dict(),\n",
    "        'TR_state_dict': TargetReg.state_dict() if isTargetReg else None,\n",
    "    }, checkpoint_dir=save_path)\n",
    "\n",
    "    print('-----------------------------------------------------------------')\n",
    "\n",
    "    grid.append(t_grid_hat)\n",
    "    MSE.append(mse)\n",
    "\n",
    "    plt.plot(loss_values, label = 'train')\n",
    "    plt.legend(loc='upper right')\n",
    "    plt.show()"
   ]
  },
  {
   "cell_type": "code",
   "execution_count": 295,
   "id": "2df139fa",
   "metadata": {},
   "outputs": [
    {
     "data": {
      "image/png": "[encoded data removed]",
      "text/plain": [
       "<Figure size 500x500 with 1 Axes>"
      ]
     },
     "metadata": {},
     "output_type": "display_data"
    }
   ],
   "source": [
    "if args.plt_adrf:\n",
    "    import matplotlib.pyplot as plt\n",
    "\n",
    "    font1 = {'family' : 'Times New Roman',\n",
    "    'weight' : 'normal',\n",
    "    'size'   : 22,\n",
    "    }\n",
    "\n",
    "    font_legend = {'family' : 'Times New Roman',\n",
    "    'weight' : 'normal',\n",
    "    'size'   : 22,\n",
    "    }\n",
    "    plt.figure(figsize=(5, 5))\n",
    "\n",
    "    c1 = 'gold'\n",
    "    c2 = 'red'\n",
    "    c3 = 'dodgerblue'\n",
    "\n",
    "    truth_grid = t_grid[:,t_grid[0,:].argsort()]\n",
    "    x = truth_grid[0, :]\n",
    "    y = truth_grid[1, :]\n",
    "    plt.plot(x, y, marker='', ls='-', label='Truth', linewidth=4, color=c1)\n",
    "\n",
    "    x = grid[0][0, :]\n",
    "    y = grid[0][1, :]\n",
    "    plt.scatter(x, y, marker='h', label='Vcnet', alpha=1, zorder=2, color=c2, s=20)\n",
    "\n",
    "    x = test_matrix[:,0]\n",
    "    y = test_matrix[:,-1]\n",
    "    plt.scatter(x, y, marker='H', label='Data', alpha=1, zorder=3, color=c3, s=20)\n",
    "\n",
    "    plt.yticks(np.arange(-2.0, 1.1, 0.5), fontsize=0, family='Times New Roman')\n",
    "    plt.xticks(np.arange(0, 1.1, 0.2), fontsize=0, family='Times New Roman')\n",
    "    plt.grid()\n",
    "    plt.legend(prop=font_legend, loc='lower left')\n",
    "    plt.xlabel('Treatment', font1)\n",
    "    plt.ylabel('Response', font1)\n",
    "\n",
    "    plt.savefig(save_path + \"/Vc_Dr.pdf\", bbox_inches='tight')"
   ]
  },
  {
   "cell_type": "code",
   "execution_count": 296,
   "id": "7c851201",
   "metadata": {},
   "outputs": [],
   "source": [
    "def test(model, test_matrix, t_grid_hat, rho = [0.01, 0.05, 0.1, 0.2, 0.3]):\n",
    "    n_test = test_matrix.shape[0]\n",
    "    mu = torch.zeros(n_test, n_test)\n",
    "    pi = mu\n",
    "\n",
    "    test_loader = get_iter(test_matrix, batch_size=n_test, shuffle=False)\n",
    "    for _ in range(n_test):\n",
    "        for idx, (inputs, y) in enumerate(test_loader):\n",
    "            t = inputs[:, 0]\n",
    "            t *= 0\n",
    "            t += inputs[_, 0]\n",
    "            x = inputs[:, 1:]\n",
    "            break\n",
    "        out = model.forward(t, x)\n",
    "        mu[_,:] = out[0].data.squeeze()\n",
    "        pi[_,:] = out[1].data.squeeze()\n",
    "\n",
    "    mu_mean = torch.mean(mu, 1, True)\n",
    "    pi_mean = torch.mean(pi, 1, True)\n",
    "    y_hat = (y.repeat(n_test, 1) - mu) / pi * pi_mean.repeat(1, n_test) + mu_mean.repeat(1, n_test)\n",
    "    g_hat = t_grid_hat[1]\n",
    "    g_tilde = torch.mean(g_hat).repeat(n_test)\n",
    "    delta = torch.mean((y_hat - torch.reshape(g_hat, (n_test,1)).repeat(1, n_test)) ** 2, 1) - torch.mean((y_hat - torch.reshape(g_tilde, (n_test,1)).repeat(1, n_test)) ** 2, 1)\n",
    "\n",
    "    rho \n",
    "    rho = np.array(rho)\n",
    "    delta = delta.repeat(len(rho), 1).numpy()\n",
    "    noise = rho.reshape(-1,1) * np.random.normal(size = n_test)\n",
    "    theta = delta.sum(axis = 1) / (np.sqrt(n_test) * delta.std(axis = 1))\n",
    "    p_val = norm.cdf(theta)\n",
    "    return p_val"
   ]
  },
  {
   "cell_type": "code",
   "execution_count": 297,
   "id": "32c44c5c",
   "metadata": {},
   "outputs": [],
   "source": [
    "p_val = test(model, test_matrix, t_grid_hat)"
   ]
  },
  {
   "cell_type": "code",
   "execution_count": 298,
   "id": "88fb4f74",
   "metadata": {},
   "outputs": [
    {
     "data": {
      "text/plain": [
       "array([0.99999816, 0.99999816, 0.99999816, 0.99999816, 0.99999816])"
      ]
     },
     "execution_count": 298,
     "metadata": {},
     "output_type": "execute_result"
    }
   ],
   "source": [
    "p_val"
   ]
  },
  {
   "cell_type": "code",
   "execution_count": 300,
   "id": "dc73c036",
   "metadata": {},
   "outputs": [
    {
     "name": "stdout",
     "output_type": "stream",
     "text": [
      "model =  Vcnet_tr\n",
      "/Users/yanyuchen/Documents/GitHub/causal_net_test/models/dynamic_net.py:83: UserWarning: The use of `x.T` on tensors of dimension other than 2 to reverse their shape is deprecated and it will throw an error in a future release. Consider `x.mT` to transpose batches of matrices or `x.permute(*torch.arange(x.ndim - 1, -1, -1))` to reverse the dimensions of a tensor. (Triggered internally at /Users/runner/miniforge3/conda-bld/pytorch-recipe_1680607622815/work/aten/src/ATen/native/TensorShape.cpp:3575.)\n",
      "  x_feature_weight = torch.matmul(self.weight.T, x_feature.T).T # bs, outd, d\n",
      "current epoch:  0\n",
      "loss:  tensor(1.9145)\n",
      "current epoch:  100\n",
      "loss:  tensor(1.7369)\n",
      "current epoch:  200\n",
      "loss:  tensor(1.7261)\n",
      "current epoch:  300\n",
      "loss:  tensor(1.7173)\n",
      "current epoch:  400\n",
      "loss:  tensor(1.7116)\n",
      "current epoch:  500\n",
      "loss:  tensor(1.7092)\n",
      "current epoch:  600\n",
      "loss:  tensor(1.7079)\n",
      "current epoch:  700\n",
      "loss:  tensor(1.7071)\n",
      "current loss:  1.7064225673675537\n",
      "current test loss:  0.08482477813959122\n",
      "-----------------------------------------------------------------\n",
      "=> Saving checkpoint to logs/simu2/eval/Vcnet_tr_ckpt.pth.tar\n",
      "-----------------------------------------------------------------\n",
      "Figure(640x480)\n",
      "rho:  [0.01, 0.05, 0.1, 0.2, 0.3]\n",
      "p_value:  [1. 1. 1. 1. 1.]\n"
     ]
    }
   ],
   "source": [
    "!python main.py"
   ]
  }
 ],
 "metadata": {
  "kernelspec": {
   "display_name": "Python 3 (ipykernel)",
   "language": "python",
   "name": "python3"
  },
  "language_info": {
   "codemirror_mode": {
    "name": "ipython",
    "version": 3
   },
   "file_extension": ".py",
   "mimetype": "text/x-python",
   "name": "python",
   "nbconvert_exporter": "python",
   "pygments_lexer": "ipython3",
   "version": "3.11.3"
  }
 },
 "nbformat": 4,
 "nbformat_minor": 5
}
