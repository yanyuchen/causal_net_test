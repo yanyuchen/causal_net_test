{
 "cells": [
  {
   "cell_type": "code",
   "execution_count": 21,
   "id": "3b20835b",
   "metadata": {},
   "outputs": [
    {
     "name": "stdout",
     "output_type": "stream",
     "text": [
      "generating eval set:  0\n",
      "generating eval set:  0\n",
      "generating eval set:  0\n",
      "generating eval set:  0\n",
      "generating eval set:  0\n",
      "generating eval set:  0\n"
     ]
    }
   ],
   "source": [
    "!python simu2_generate_data.py"
   ]
  },
  {
   "cell_type": "code",
   "execution_count": 2,
   "id": "545398cb",
   "metadata": {},
   "outputs": [],
   "source": [
    "import torch\n",
    "import math\n",
    "import numpy as np\n",
    "import os\n",
    "import pandas as pd\n",
    "\n",
    "from models.dynamic_net import Vcnet, TR #Drnet\n",
    "from data.data import get_iter, split\n",
    "from utils.eval import *\n",
    "\n",
    "#import argparse\n",
    "\n",
    "import matplotlib.pyplot as plt\n",
    "from scipy.stats import norm"
   ]
  },
  {
   "cell_type": "code",
   "execution_count": 4,
   "id": "5f5c298f",
   "metadata": {},
   "outputs": [],
   "source": [
    "def split(dat, t_grid, inf_ratio = 0.3):\n",
    "    n_sample = len(t_grid[0])\n",
    "    n_train = round(n_sample * (1-inf_ratio))\n",
    "\n",
    "    perm = np.random.permutation(n_sample)\n",
    "    dat = dat[perm, :]\n",
    "    t_grid = t_grid[:, perm]\n",
    "    training = dat[:n_train, :]\n",
    "    testing = dat[(n_train+1):, :]\n",
    "    t_grid_test = t_grid[:, (n_train+1):]\n",
    "    return torch.from_numpy(training).float(), torch.from_numpy(testing).float(), torch.from_numpy(t_grid_test).float()"
   ]
  },
  {
   "cell_type": "code",
   "execution_count": 32,
   "id": "179a4e60",
   "metadata": {},
   "outputs": [],
   "source": [
    "from data.simu2 import *"
   ]
  },
  {
   "cell_type": "code",
   "execution_count": 376,
   "id": "a5ebbde4",
   "metadata": {},
   "outputs": [],
   "source": [
    "inf_ratio = 0.15\n",
    "delta = 0.5"
   ]
  },
  {
   "cell_type": "code",
   "execution_count": 3,
   "id": "b5e2c8fb",
   "metadata": {},
   "outputs": [],
   "source": [
    "class args_:\n",
    "    data_dir = 'dataset/simu2/eval/0'\n",
    "    save_dir = 'logs/simu2/eval'\n",
    "    n_epochs = 1000\n",
    "    verbose = 100\n",
    "    plt_adrf = True\n",
    "    \n",
    "args = args_"
   ]
  },
  {
   "cell_type": "code",
   "execution_count": 378,
   "id": "5f4d33ff",
   "metadata": {},
   "outputs": [],
   "source": [
    "data = pd.read_csv(load_path + f'/delta_{delta}_data.txt', header=None, sep=' ')\n",
    "data = data.to_numpy()\n",
    "t_grid_dat = pd.read_csv(load_path + f'/delta_{delta}_t_grid.txt', header=None, sep=' ')\n",
    "t_grid_dat = t_grid_dat.to_numpy()\n",
    "train_matrix, test_matrix, t_grid = split(data, t_grid_dat, inf_ratio)\n",
    "\n",
    "train_loader = get_iter(train_matrix, batch_size=train_matrix.shape[0], shuffle=True)\n",
    "test_loader = get_iter(test_matrix, batch_size=test_matrix.shape[0], shuffle=False)"
   ]
  },
  {
   "cell_type": "code",
   "execution_count": 379,
   "id": "1dd703bb",
   "metadata": {},
   "outputs": [],
   "source": [
    "n_test = test_matrix.shape[0]\n",
    "counterfactual = torch.zeros(n_test, n_test)\n",
    "for i in range(n_test):\n",
    "    for j in range(n_test):\n",
    "        counterfactual[i, j] = t_x_y(t = test_matrix[j, 0], x = test_matrix[i, 1:5], delta = delta)"
   ]
  },
  {
   "cell_type": "code",
   "execution_count": 380,
   "id": "53fca348",
   "metadata": {},
   "outputs": [
    {
     "data": {
      "image/png": "[encoded data removed]",
      "text/plain": [
       "<Figure size 640x480 with 1 Axes>"
      ]
     },
     "metadata": {},
     "output_type": "display_data"
    }
   ],
   "source": [
    "plt.scatter(t_grid[0], torch.mean(counterfactual, 0))\n",
    "plt.ylim(-1, 1)\n",
    "plt.show()"
   ]
  },
  {
   "cell_type": "code",
   "execution_count": 37,
   "id": "de566f28",
   "metadata": {},
   "outputs": [],
   "source": [
    "def adjust_learning_rate(optimizer, init_lr, epoch):\n",
    "    if lr_type == 'cos':  # cos without warm-up\n",
    "        lr = 0.5 * init_lr * (1 + math.cos(math.pi * epoch / num_epoch))\n",
    "    elif lr_type == 'exp':\n",
    "        step = 1\n",
    "        decay = 0.96\n",
    "        lr = init_lr * (decay ** (epoch // step))\n",
    "    elif lr_type == 'fixed':\n",
    "        lr = init_lr\n",
    "    else:\n",
    "        raise NotImplementedError\n",
    "    for param_group in optimizer.param_groups:\n",
    "        param_group['lr'] = lr\n",
    "    return lr\n",
    "\n",
    "def save_checkpoint(state, checkpoint_dir='.'):\n",
    "    filename = os.path.join(checkpoint_dir, model_name + '_ckpt.pth.tar')\n",
    "    print('=> Saving checkpoint to {}'.format(filename))\n",
    "    torch.save(state, filename)\n",
    "\n",
    "# criterion\n",
    "def criterion(out, y, alpha=0.5, epsilon=1e-6):\n",
    "    return ((out[1].squeeze() - y.squeeze())**2).mean() - alpha * torch.log(out[0] + epsilon).mean()\n",
    "\n",
    "def criterion_TR(out, trg, y, beta=1., epsilon=1e-6):\n",
    "    # out[1] is Q\n",
    "    # out[0] is g\n",
    "    return beta * ((y.squeeze() - trg.squeeze()/(out[0].squeeze() + epsilon) - out[1].squeeze())**2).mean()"
   ]
  },
  {
   "cell_type": "code",
   "execution_count": 555,
   "id": "bb461727",
   "metadata": {},
   "outputs": [],
   "source": [
    "def calculate_delta(model, test_matrix, t_grid_hat, targetreg):\n",
    "    n_test = test_matrix.shape[0]\n",
    "    mu_tr = torch.zeros(n_test, n_test)\n",
    "\n",
    "    test_loader = get_iter(test_matrix, batch_size=n_test, shuffle=False)\n",
    "    for _ in range(n_test):\n",
    "        for idx, (inputs, y) in enumerate(test_loader):\n",
    "            t = inputs[:, 0]\n",
    "            t *= 0\n",
    "            t += t_grid_hat[0, _]\n",
    "            x = inputs[:, 1:]\n",
    "            break\n",
    "        out = model.forward(t, x)\n",
    "        g = out[0].data.squeeze()\n",
    "        out = out[1].data.squeeze()\n",
    "        \n",
    "        tr_out = targetreg(t).data\n",
    "        mu_tr[_,:] = out + tr_out / (g + 1e-6)\n",
    "\n",
    "    g_hat = t_grid_hat[1]\n",
    "    g_tilde = torch.mean(g_hat).repeat(n_test)\n",
    "    delta = torch.mean((mu_tr - torch.reshape(g_hat, (n_test,1)).repeat(1, n_test)) ** 2, 1) - torch.mean((mu_tr - torch.reshape(g_tilde, (n_test,1)).repeat(1, n_test)) ** 2, 1)\n",
    "    return delta.numpy()"
   ]
  },
  {
   "cell_type": "code",
   "execution_count": 541,
   "id": "d3bbe5b7",
   "metadata": {},
   "outputs": [],
   "source": [
    "tmp = calculate_delta(model, test_matrix, t_grid_hat, TargetReg)"
   ]
  },
  {
   "cell_type": "code",
   "execution_count": 569,
   "id": "c39ba2d1",
   "metadata": {},
   "outputs": [
    {
     "data": {
      "text/plain": [
       "149"
      ]
     },
     "execution_count": 569,
     "metadata": {},
     "output_type": "execute_result"
    }
   ],
   "source": [
    "n_sample = data.shape[0]\n",
    "n_train = round(n_sample * (1-inf_ratio)) + 1\n",
    "n_test = n_sample - n_train\n",
    "n_test"
   ]
  },
  {
   "cell_type": "code",
   "execution_count": 570,
   "id": "f62cd7b8",
   "metadata": {
    "scrolled": false
   },
   "outputs": [],
   "source": [
    "def calculate_U_delta(args, delta, alpha = 0.05, U = 5, inf_ratio = 0.15):\n",
    "    load_path = args.data_dir\n",
    "    save_path = args.save_dir\n",
    "    if not os.path.exists(save_path):\n",
    "        os.makedirs(save_path)\n",
    "\n",
    "    data = pd.read_csv(load_path + f'/delta_{delta}_data.txt', header=None, sep=' ')\n",
    "    data = data.to_numpy()\n",
    "    t_grid_dat = pd.read_csv(load_path + f'/delta_{delta}_t_grid.txt', header=None, sep=' ')\n",
    "    t_grid_dat = t_grid_dat.to_numpy()\n",
    "\n",
    "    # optimizer\n",
    "    lr_type = 'fixed'\n",
    "    wd = 5e-3\n",
    "    momentum = 0.9\n",
    "    # targeted regularization optimizer\n",
    "    tr_wd = 5e-3\n",
    "\n",
    "    num_epoch = args.n_epochs\n",
    "\n",
    "    # check val loss\n",
    "    verbose = args.verbose\n",
    "\n",
    "    #grid = []\n",
    "    #MSE = []\n",
    "\n",
    "    # choose from {'Tarnet', 'Tarnet_tr', 'Drnet', 'Drnet_tr', 'Vcnet', 'Vcnet_tr'}\n",
    "    method_list = ['Vcnet_tr']\n",
    "    \n",
    "    # delta\n",
    "    n_sample = data.shape[0]\n",
    "    n_train = round(n_sample * (1-inf_ratio)) + 1\n",
    "    n_test = n_sample - n_train\n",
    "    delta = np.zeros(n_test * U).reshape(U, n_test)\n",
    "    for _ in range(U):\n",
    "        perm = np.random.permutation(data.shape[0])\n",
    "        data[:,0] = data[perm, 0]\n",
    "        t_grid_dat[0, :] = t_grid_dat[0, perm]\n",
    "        train_matrix, test_matrix, t_grid = split(data, t_grid_dat, inf_ratio)\n",
    "\n",
    "        train_loader = get_iter(train_matrix, batch_size=train_matrix.shape[0], shuffle=True)\n",
    "        test_loader = get_iter(test_matrix, batch_size=test_matrix.shape[0], shuffle=False)\n",
    "\n",
    "        for model_name in method_list:\n",
    "            # import model\n",
    "            if model_name == 'Vcnet' or model_name == 'Vcnet_tr':\n",
    "                cfg_density = [(4, 50, 1, 'relu'), (50, 50, 1, 'relu')]\n",
    "                num_grid = 10\n",
    "                cfg = [(50, 50, 1, 'relu'), (50, 1, 1, 'id')]\n",
    "                degree = 2\n",
    "                knots = [0.33, 0.66]\n",
    "                model = Vcnet(cfg_density, num_grid, cfg, degree, knots)\n",
    "                model._initialize_weights()\n",
    "\n",
    "            elif model_name == 'Drnet' or model_name == 'Drnet_tr':\n",
    "                cfg_density = [(6, 50, 1, 'relu'), (50, 50, 1, 'relu')]\n",
    "                num_grid = 10\n",
    "                cfg = [(50, 50, 1, 'relu'), (50, 1, 1, 'id')]\n",
    "                isenhance = 1\n",
    "                model = Drnet(cfg_density, num_grid, cfg, isenhance=isenhance)\n",
    "                model._initialize_weights()\n",
    "\n",
    "            elif model_name == 'Tarnet' or model_name == 'Tarnet_tr':\n",
    "                cfg_density = [(6, 50, 1, 'relu'), (50, 50, 1, 'relu')]\n",
    "                num_grid = 10\n",
    "                cfg = [(50, 50, 1, 'relu'), (50, 1, 1, 'id')]\n",
    "                isenhance = 0\n",
    "                model = Drnet(cfg_density, num_grid, cfg, isenhance=isenhance)\n",
    "                model._initialize_weights()\n",
    "\n",
    "            # use Target Regularization?\n",
    "            if model_name == 'Vcnet_tr' or model_name == 'Drnet_tr' or model_name == 'Tarnet_tr':\n",
    "                isTargetReg = 1\n",
    "            else:\n",
    "                isTargetReg = 0\n",
    "\n",
    "            if isTargetReg:\n",
    "                tr_knots = list(np.arange(0.1, 1, 0.1))\n",
    "                tr_degree = 2\n",
    "                TargetReg = TR(tr_degree, tr_knots)\n",
    "                TargetReg._initialize_weights()\n",
    "\n",
    "            # best cfg for each model\n",
    "            if model_name == 'Tarnet':\n",
    "                init_lr = 0.05\n",
    "                alpha = 1.0\n",
    "            elif model_name == 'Tarnet_tr':\n",
    "                init_lr = 0.05\n",
    "                alpha = 0.5\n",
    "                tr_init_lr = 0.001\n",
    "                beta = 1.\n",
    "            elif model_name == 'Drnet':\n",
    "                init_lr = 0.05\n",
    "                alpha = 1.\n",
    "            elif model_name == 'Drnet_tr':\n",
    "                init_lr = 0.05\n",
    "                # init_lr = 0.05 tuned\n",
    "                alpha = 0.5\n",
    "                tr_init_lr = 0.001\n",
    "                beta = 1.\n",
    "            elif model_name == 'Vcnet':\n",
    "                init_lr = 0.0001\n",
    "                alpha = 0.5\n",
    "            elif model_name == 'Vcnet_tr':\n",
    "                init_lr = 0.0001\n",
    "                alpha = 0.5\n",
    "                tr_init_lr = 0.001\n",
    "                beta = 1.\n",
    "\n",
    "            optimizer = torch.optim.SGD(model.parameters(), lr=init_lr, momentum=momentum, weight_decay=wd, nesterov=True)\n",
    "\n",
    "            if isTargetReg:\n",
    "                tr_optimizer = torch.optim.SGD(TargetReg.parameters(), lr=tr_init_lr, weight_decay=tr_wd)\n",
    "\n",
    "            print('model = ', model_name)\n",
    "            loss_values = []\n",
    "            for epoch in range(num_epoch):\n",
    "                for idx, (inputs, y) in enumerate(train_loader):\n",
    "                    t = inputs[:, 0]\n",
    "                    x = inputs[:, 1:]\n",
    "\n",
    "                    if isTargetReg:\n",
    "                        optimizer.zero_grad()\n",
    "                        out = model.forward(t, x)\n",
    "                        trg = TargetReg(t)\n",
    "                        loss = criterion(out, y, alpha=alpha) + criterion_TR(out, trg, y, beta=beta)\n",
    "                        loss.backward()\n",
    "                        optimizer.step()\n",
    "\n",
    "                        tr_optimizer.zero_grad()\n",
    "                        out = model.forward(t, x)\n",
    "                        trg = TargetReg(t)\n",
    "                        tr_loss = criterion_TR(out, trg, y, beta=beta)\n",
    "                        tr_loss.backward()\n",
    "                        tr_optimizer.step()\n",
    "                    else:\n",
    "                        optimizer.zero_grad()\n",
    "                        out = model.forward(t, x)\n",
    "                        loss = criterion(out, y, alpha=alpha)\n",
    "                        loss.backward()\n",
    "                        optimizer.step()\n",
    "\n",
    "                    loss_values.append(loss.data)\n",
    "\n",
    "                if epoch % verbose == 0:\n",
    "                    print(f'iteration: {_ + 1}/{U}')\n",
    "                    print('current epoch: ', epoch)\n",
    "                    print('loss: ', loss.data)\n",
    "\n",
    "\n",
    "\n",
    "            if isTargetReg:\n",
    "                t_grid_hat, mse = curve(model, test_matrix, t_grid, targetreg=TargetReg)\n",
    "            else:\n",
    "                t_grid_hat, mse = curve(model, test_matrix, t_grid)\n",
    "\n",
    "            mse = float(mse)\n",
    "            #print('current loss: ', float(loss.data))\n",
    "            #print('current test loss: ', mse)\n",
    "            #print('-----------------------------------------------------------------')\n",
    "\n",
    "            #save_checkpoint({\n",
    "            #    'model': model_name,\n",
    "            #    'best_test_loss': mse,\n",
    "            #    'model_state_dict': model.state_dict(),\n",
    "            #    'TR_state_dict': TargetReg.state_dict() if isTargetReg else None,\n",
    "            #}, checkpoint_dir=save_path)\n",
    "\n",
    "            #print('-----------------------------------------------------------------')\n",
    "\n",
    "            #grid.append(t_grid_hat)\n",
    "            #MSE.append(mse)\n",
    "\n",
    "            #plt.plot(loss_values, label = 'train')\n",
    "            #plt.legend(loc='upper right')\n",
    "            #plt.show()\n",
    "            \n",
    "            delta[_, :] = calculate_delta(model, test_matrix, t_grid_hat, TargetReg)\n",
    "    return delta"
   ]
  },
  {
   "cell_type": "code",
   "execution_count": 571,
   "id": "98725351",
   "metadata": {
    "scrolled": false
   },
   "outputs": [
    {
     "name": "stdout",
     "output_type": "stream",
     "text": [
      "model =  Vcnet_tr\n",
      "iteration: 1/3\n",
      "current epoch:  0\n",
      "loss:  tensor(2.1503)\n",
      "iteration: 1/3\n",
      "current epoch:  100\n",
      "loss:  tensor(1.7364)\n",
      "iteration: 1/3\n",
      "current epoch:  200\n",
      "loss:  tensor(1.7172)\n",
      "iteration: 1/3\n",
      "current epoch:  300\n",
      "loss:  tensor(1.7091)\n",
      "iteration: 1/3\n",
      "current epoch:  400\n",
      "loss:  tensor(1.7044)\n",
      "iteration: 1/3\n",
      "current epoch:  500\n",
      "loss:  tensor(1.7009)\n",
      "iteration: 1/3\n",
      "current epoch:  600\n",
      "loss:  tensor(1.6979)\n",
      "iteration: 1/3\n",
      "current epoch:  700\n",
      "loss:  tensor(1.6951)\n",
      "iteration: 1/3\n",
      "current epoch:  800\n",
      "loss:  tensor(1.6926)\n",
      "iteration: 1/3\n",
      "current epoch:  900\n",
      "loss:  tensor(1.6901)\n",
      "model =  Vcnet_tr\n",
      "iteration: 2/3\n",
      "current epoch:  0\n",
      "loss:  tensor(2.1725)\n",
      "iteration: 2/3\n",
      "current epoch:  100\n",
      "loss:  tensor(1.7463)\n",
      "iteration: 2/3\n",
      "current epoch:  200\n",
      "loss:  tensor(1.7282)\n",
      "iteration: 2/3\n",
      "current epoch:  300\n",
      "loss:  tensor(1.7202)\n",
      "iteration: 2/3\n",
      "current epoch:  400\n",
      "loss:  tensor(1.7143)\n",
      "iteration: 2/3\n",
      "current epoch:  500\n",
      "loss:  tensor(1.7098)\n",
      "iteration: 2/3\n",
      "current epoch:  600\n",
      "loss:  tensor(1.7059)\n",
      "iteration: 2/3\n",
      "current epoch:  700\n",
      "loss:  tensor(1.7027)\n",
      "iteration: 2/3\n",
      "current epoch:  800\n",
      "loss:  tensor(1.6995)\n",
      "iteration: 2/3\n",
      "current epoch:  900\n",
      "loss:  tensor(1.6962)\n",
      "model =  Vcnet_tr\n",
      "iteration: 3/3\n",
      "current epoch:  0\n",
      "loss:  tensor(2.1522)\n",
      "iteration: 3/3\n",
      "current epoch:  100\n",
      "loss:  tensor(1.7308)\n",
      "iteration: 3/3\n",
      "current epoch:  200\n",
      "loss:  tensor(1.7197)\n",
      "iteration: 3/3\n",
      "current epoch:  300\n",
      "loss:  tensor(1.7138)\n",
      "iteration: 3/3\n",
      "current epoch:  400\n",
      "loss:  tensor(1.7090)\n",
      "iteration: 3/3\n",
      "current epoch:  500\n",
      "loss:  tensor(1.7045)\n",
      "iteration: 3/3\n",
      "current epoch:  600\n",
      "loss:  tensor(1.7006)\n",
      "iteration: 3/3\n",
      "current epoch:  700\n",
      "loss:  tensor(1.6973)\n",
      "iteration: 3/3\n",
      "current epoch:  800\n",
      "loss:  tensor(1.6944)\n",
      "iteration: 3/3\n",
      "current epoch:  900\n",
      "loss:  tensor(1.6918)\n"
     ]
    }
   ],
   "source": [
    "delta = calculate_U_delta(args, delta = 0.5, alpha = 0.05, U = 3, inf_ratio = 0.15)"
   ]
  },
  {
   "cell_type": "code",
   "execution_count": 587,
   "id": "0cbd5e41",
   "metadata": {},
   "outputs": [],
   "source": [
    "def turn_rho(delta0, rho, alpha = 0.05):\n",
    "    U, n_test = delta0.shape\n",
    "    p_val = np.zeros(len(rho) * U).reshape(len(rho), U)\n",
    "    rej = np.zeros(len(rho))\n",
    "    for _ in range(len(rho)):\n",
    "        noise = rho[_]\n",
    "        delta = delta0 + noise * np.random.normal(size = U * n_test).reshape(U, n_test)\n",
    "        theta = delta.sum(axis = 1) / (np.sqrt(n_test) * delta.std(axis = 1))\n",
    "        p_val[_,:] = norm.cdf(theta)\n",
    "        rej[_] = (p_val[_,:] <= alpha).mean()\n",
    "    return p_val, rej"
   ]
  },
  {
   "cell_type": "code",
   "execution_count": 588,
   "id": "7436618d",
   "metadata": {},
   "outputs": [],
   "source": [
    "p_val, rej = turn_rho(delta, rho = [0.01, 0.1, 1, 10, 100])"
   ]
  },
  {
   "cell_type": "code",
   "execution_count": 589,
   "id": "d114ffb4",
   "metadata": {},
   "outputs": [
    {
     "data": {
      "text/plain": [
       "array([0.        , 0.        , 0.33333333, 0.        , 0.        ])"
      ]
     },
     "execution_count": 589,
     "metadata": {},
     "output_type": "execute_result"
    }
   ],
   "source": [
    "rej"
   ]
  },
  {
   "cell_type": "code",
   "execution_count": null,
   "id": "1cbf22f7",
   "metadata": {},
   "outputs": [],
   "source": []
  },
  {
   "cell_type": "code",
   "execution_count": 580,
   "id": "8512d5a9",
   "metadata": {},
   "outputs": [],
   "source": [
    "theta = delta.sum(axis = 1)/(np.sqrt(n_test) * delta.std(axis = 1))\n",
    "tmp = norm.cdf(theta)"
   ]
  },
  {
   "cell_type": "code",
   "execution_count": 584,
   "id": "02ab875a",
   "metadata": {},
   "outputs": [
    {
     "data": {
      "text/plain": [
       "1.0"
      ]
     },
     "execution_count": 584,
     "metadata": {},
     "output_type": "execute_result"
    }
   ],
   "source": [
    "(tmp <= 0.05).mean()"
   ]
  },
  {
   "cell_type": "code",
   "execution_count": 554,
   "id": "995944a2",
   "metadata": {},
   "outputs": [
    {
     "data": {
      "text/plain": [
       "torch.Size([149])"
      ]
     },
     "execution_count": 554,
     "metadata": {},
     "output_type": "execute_result"
    }
   ],
   "source": [
    "delta[2].shape"
   ]
  },
  {
   "cell_type": "code",
   "execution_count": 529,
   "id": "736164b4",
   "metadata": {},
   "outputs": [
    {
     "data": {
      "text/plain": [
       "array([0.88, 0.83, 0.62, 0.59, 0.56, 0.56])"
      ]
     },
     "execution_count": 529,
     "metadata": {},
     "output_type": "execute_result"
    }
   ],
   "source": [
    "rej"
   ]
  },
  {
   "cell_type": "code",
   "execution_count": 525,
   "id": "a819cfcb",
   "metadata": {},
   "outputs": [
    {
     "data": {
      "text/plain": [
       "array([0.3       , 0.03333333, 0.03333333, 0.03333333, 0.03333333])"
      ]
     },
     "execution_count": 525,
     "metadata": {},
     "output_type": "execute_result"
    }
   ],
   "source": [
    "tmp = np.zeros(5)\n",
    "for _ in range(30):\n",
    "    tmp += (p_val[_,:] <= 0.05)\n",
    "tmp/30"
   ]
  },
  {
   "cell_type": "code",
   "execution_count": 518,
   "id": "a349444f",
   "metadata": {},
   "outputs": [
    {
     "data": {
      "text/plain": [
       "array([0.3       , 0.03333333, 0.03333333, 0.03333333, 0.03333333])"
      ]
     },
     "execution_count": 518,
     "metadata": {},
     "output_type": "execute_result"
    }
   ],
   "source": [
    "(p_val <= 0.05).mean(axis = 0)"
   ]
  },
  {
   "cell_type": "code",
   "execution_count": 526,
   "id": "7c9c5e34",
   "metadata": {},
   "outputs": [
    {
     "data": {
      "text/plain": [
       "array([0.86666667, 0.53333333, 0.5       , 0.4       , 0.4       ])"
      ]
     },
     "execution_count": 526,
     "metadata": {},
     "output_type": "execute_result"
    }
   ],
   "source": [
    "rej"
   ]
  },
  {
   "cell_type": "code",
   "execution_count": 490,
   "id": "a46000a8",
   "metadata": {},
   "outputs": [
    {
     "data": {
      "text/plain": [
       "[0.01, 0.15, 0.05, 0.1, 0.2, 0.3, 0.5, 0.8, 1]"
      ]
     },
     "execution_count": 490,
     "metadata": {},
     "output_type": "execute_result"
    }
   ],
   "source": [
    "rho"
   ]
  },
  {
   "cell_type": "code",
   "execution_count": 488,
   "id": "f89d92ca",
   "metadata": {},
   "outputs": [
    {
     "data": {
      "text/plain": [
       "array([0.96666667, 0.7       , 0.76666667, 0.7       ])"
      ]
     },
     "execution_count": 488,
     "metadata": {},
     "output_type": "execute_result"
    }
   ],
   "source": [
    "rej # (inf_ratio, rho) = (0.3, )"
   ]
  },
  {
   "cell_type": "code",
   "execution_count": 491,
   "id": "020f27eb",
   "metadata": {},
   "outputs": [
    {
     "data": {
      "text/plain": [
       "array([0.83333333, 0.43333333, 0.5       , 0.43333333, 0.43333333,\n",
       "       0.43333333, 0.43333333, 0.43333333, 0.43333333])"
      ]
     },
     "execution_count": 491,
     "metadata": {},
     "output_type": "execute_result"
    }
   ],
   "source": [
    "rej # (inf_ratio, rho) = (0.15, 0.1)"
   ]
  },
  {
   "cell_type": "code",
   "execution_count": 530,
   "id": "00a5b281",
   "metadata": {},
   "outputs": [
    {
     "name": "stdout",
     "output_type": "stream",
     "text": [
      "model =  Vcnet_tr\n",
      "current epoch:  0\n",
      "loss:  tensor(2.1017)\n",
      "current epoch:  100\n",
      "loss:  tensor(1.7153)\n",
      "current epoch:  200\n",
      "loss:  tensor(1.7056)\n",
      "current epoch:  300\n",
      "loss:  tensor(1.7006)\n",
      "current epoch:  400\n",
      "loss:  tensor(1.6969)\n",
      "current epoch:  500\n",
      "loss:  tensor(1.6940)\n",
      "current epoch:  600\n",
      "loss:  tensor(1.6915)\n",
      "current epoch:  700\n",
      "loss:  tensor(1.6893)\n",
      "current epoch:  800\n",
      "loss:  tensor(1.6875)\n",
      "current epoch:  900\n",
      "loss:  tensor(1.6856)\n",
      "current loss:  1.683835744857788\n",
      "current test loss:  0.04014138877391815\n",
      "-----------------------------------------------------------------\n"
     ]
    },
    {
     "data": {
      "image/png": "[encoded data removed]",
      "text/plain": [
       "<Figure size 640x480 with 1 Axes>"
      ]
     },
     "metadata": {},
     "output_type": "display_data"
    }
   ],
   "source": [
    "delta = 0.5\n",
    "\n",
    "load_path = args.data_dir\n",
    "save_path = args.save_dir\n",
    "if not os.path.exists(save_path):\n",
    "    os.makedirs(save_path)\n",
    "\n",
    "data = pd.read_csv(load_path + f'/delta_{delta}_data.txt', header=None, sep=' ')\n",
    "data = data.to_numpy()\n",
    "t_grid_dat = pd.read_csv(load_path + f'/delta_{delta}_t_grid.txt', header=None, sep=' ')\n",
    "t_grid_dat = t_grid_dat.to_numpy()\n",
    "\n",
    "# optimizer\n",
    "lr_type = 'fixed'\n",
    "wd = 5e-3\n",
    "momentum = 0.9\n",
    "# targeted regularization optimizer\n",
    "tr_wd = 5e-3\n",
    "\n",
    "num_epoch = args.n_epochs\n",
    "\n",
    "# check val loss\n",
    "verbose = args.verbose\n",
    "\n",
    "grid = []\n",
    "MSE = []\n",
    "\n",
    "# choose from {'Tarnet', 'Tarnet_tr', 'Drnet', 'Drnet_tr', 'Vcnet', 'Vcnet_tr'}\n",
    "method_list = ['Vcnet_tr']\n",
    "\n",
    "perm = np.random.permutation(data.shape[0])\n",
    "data[:,0] = data[perm, 0]\n",
    "t_grid_dat[0, :] = t_grid_dat[0, perm]\n",
    "train_matrix, test_matrix, t_grid = split(data, t_grid_dat, inf_ratio)\n",
    "\n",
    "train_loader = get_iter(train_matrix, batch_size=train_matrix.shape[0], shuffle=True)\n",
    "test_loader = get_iter(test_matrix, batch_size=test_matrix.shape[0], shuffle=False)\n",
    "\n",
    "for model_name in method_list:\n",
    "    # import model\n",
    "    if model_name == 'Vcnet' or model_name == 'Vcnet_tr':\n",
    "        cfg_density = [(4, 50, 1, 'relu'), (50, 50, 1, 'relu')]\n",
    "        num_grid = 10\n",
    "        cfg = [(50, 50, 1, 'relu'), (50, 1, 1, 'id')]\n",
    "        degree = 2\n",
    "        knots = [0.33, 0.66]\n",
    "        model = Vcnet(cfg_density, num_grid, cfg, degree, knots)\n",
    "        model._initialize_weights()\n",
    "\n",
    "    elif model_name == 'Drnet' or model_name == 'Drnet_tr':\n",
    "        cfg_density = [(6, 50, 1, 'relu'), (50, 50, 1, 'relu')]\n",
    "        num_grid = 10\n",
    "        cfg = [(50, 50, 1, 'relu'), (50, 1, 1, 'id')]\n",
    "        isenhance = 1\n",
    "        model = Drnet(cfg_density, num_grid, cfg, isenhance=isenhance)\n",
    "        model._initialize_weights()\n",
    "\n",
    "    elif model_name == 'Tarnet' or model_name == 'Tarnet_tr':\n",
    "        cfg_density = [(6, 50, 1, 'relu'), (50, 50, 1, 'relu')]\n",
    "        num_grid = 10\n",
    "        cfg = [(50, 50, 1, 'relu'), (50, 1, 1, 'id')]\n",
    "        isenhance = 0\n",
    "        model = Drnet(cfg_density, num_grid, cfg, isenhance=isenhance)\n",
    "        model._initialize_weights()\n",
    "\n",
    "    # use Target Regularization?\n",
    "    if model_name == 'Vcnet_tr' or model_name == 'Drnet_tr' or model_name == 'Tarnet_tr':\n",
    "        isTargetReg = 1\n",
    "    else:\n",
    "        isTargetReg = 0\n",
    "\n",
    "    if isTargetReg:\n",
    "        tr_knots = list(np.arange(0.1, 1, 0.1))\n",
    "        tr_degree = 2\n",
    "        TargetReg = TR(tr_degree, tr_knots)\n",
    "        TargetReg._initialize_weights()\n",
    "\n",
    "    # best cfg for each model\n",
    "    if model_name == 'Tarnet':\n",
    "        init_lr = 0.05\n",
    "        alpha = 1.0\n",
    "    elif model_name == 'Tarnet_tr':\n",
    "        init_lr = 0.05\n",
    "        alpha = 0.5\n",
    "        tr_init_lr = 0.001\n",
    "        beta = 1.\n",
    "    elif model_name == 'Drnet':\n",
    "        init_lr = 0.05\n",
    "        alpha = 1.\n",
    "    elif model_name == 'Drnet_tr':\n",
    "        init_lr = 0.05\n",
    "        # init_lr = 0.05 tuned\n",
    "        alpha = 0.5\n",
    "        tr_init_lr = 0.001\n",
    "        beta = 1.\n",
    "    elif model_name == 'Vcnet':\n",
    "        init_lr = 0.0001\n",
    "        alpha = 0.5\n",
    "    elif model_name == 'Vcnet_tr':\n",
    "        init_lr = 0.0001\n",
    "        alpha = 0.5\n",
    "        tr_init_lr = 0.001\n",
    "        beta = 1.\n",
    "\n",
    "    optimizer = torch.optim.SGD(model.parameters(), lr=init_lr, momentum=momentum, weight_decay=wd, nesterov=True)\n",
    "\n",
    "    if isTargetReg:\n",
    "        tr_optimizer = torch.optim.SGD(TargetReg.parameters(), lr=tr_init_lr, weight_decay=tr_wd)\n",
    "\n",
    "    print('model = ', model_name)\n",
    "    loss_values = []\n",
    "    for epoch in range(num_epoch):\n",
    "        for idx, (inputs, y) in enumerate(train_loader):\n",
    "            t = inputs[:, 0]\n",
    "            x = inputs[:, 1:]\n",
    "\n",
    "            if isTargetReg:\n",
    "                optimizer.zero_grad()\n",
    "                out = model.forward(t, x)\n",
    "                trg = TargetReg(t)\n",
    "                loss = criterion(out, y, alpha=alpha) + criterion_TR(out, trg, y, beta=beta)\n",
    "                loss.backward()\n",
    "                optimizer.step()\n",
    "\n",
    "                tr_optimizer.zero_grad()\n",
    "                out = model.forward(t, x)\n",
    "                trg = TargetReg(t)\n",
    "                tr_loss = criterion_TR(out, trg, y, beta=beta)\n",
    "                tr_loss.backward()\n",
    "                tr_optimizer.step()\n",
    "            else:\n",
    "                optimizer.zero_grad()\n",
    "                out = model.forward(t, x)\n",
    "                loss = criterion(out, y, alpha=alpha)\n",
    "                loss.backward()\n",
    "                optimizer.step()\n",
    "\n",
    "            loss_values.append(loss.data)\n",
    "\n",
    "        if epoch % verbose == 0:\n",
    "            print('current epoch: ', epoch)\n",
    "            print('loss: ', loss.data)\n",
    "\n",
    "\n",
    "\n",
    "    if isTargetReg:\n",
    "        t_grid_hat, mse = curve(model, test_matrix, t_grid, targetreg=TargetReg)\n",
    "    else:\n",
    "        t_grid_hat, mse = curve(model, test_matrix, t_grid)\n",
    "\n",
    "    mse = float(mse)\n",
    "    print('current loss: ', float(loss.data))\n",
    "    print('current test loss: ', mse)\n",
    "    print('-----------------------------------------------------------------')\n",
    "\n",
    "    #save_checkpoint({\n",
    "    #    'model': model_name,\n",
    "    #    'best_test_loss': mse,\n",
    "    #    'model_state_dict': model.state_dict(),\n",
    "    #    'TR_state_dict': TargetReg.state_dict() if isTargetReg else None,\n",
    "    #}, checkpoint_dir=save_path)\n",
    "\n",
    "    #print('-----------------------------------------------------------------')\n",
    "\n",
    "    grid.append(t_grid_hat)\n",
    "    MSE.append(mse)\n",
    "\n",
    "    plt.plot(loss_values, label = 'train')\n",
    "    plt.legend(loc='upper right')\n",
    "    plt.show()"
   ]
  },
  {
   "cell_type": "code",
   "execution_count": 499,
   "id": "2df139fa",
   "metadata": {},
   "outputs": [
    {
     "data": {
      "image/png": "[encoded data removed]",
      "text/plain": [
       "<Figure size 500x500 with 1 Axes>"
      ]
     },
     "metadata": {},
     "output_type": "display_data"
    }
   ],
   "source": [
    "if args.plt_adrf:\n",
    "    import matplotlib.pyplot as plt\n",
    "\n",
    "    font1 = {'family' : 'Times New Roman',\n",
    "    'weight' : 'normal',\n",
    "    'size'   : 22,\n",
    "    }\n",
    "\n",
    "    font_legend = {'family' : 'Times New Roman',\n",
    "    'weight' : 'normal',\n",
    "    'size'   : 22,\n",
    "    }\n",
    "    plt.figure(figsize=(5, 5))\n",
    "\n",
    "    c1 = 'gold'\n",
    "    c2 = 'red'\n",
    "    c3 = 'dodgerblue'\n",
    "\n",
    "    truth_grid = t_grid[:,t_grid[0,:].argsort()]\n",
    "    x = truth_grid[0, :]\n",
    "    y = truth_grid[1, :]\n",
    "    plt.plot(x, y, marker='', ls='-', label='Truth', linewidth=4, color=c1)\n",
    "\n",
    "    x = grid[0][0, :]\n",
    "    y = grid[0][1, :]\n",
    "    plt.scatter(x, y, marker='h', label='Vcnet', alpha=1, zorder=2, color=c2, s=20)\n",
    "\n",
    "    x = test_matrix[:,0]\n",
    "    y = test_matrix[:,-1]\n",
    "    plt.scatter(x, y, marker='H', label='Data', alpha=1, zorder=3, color=c3, s=20)\n",
    "\n",
    "    plt.yticks(np.arange(-2.0, 1.1, 0.5), fontsize=0, family='Times New Roman')\n",
    "    plt.xticks(np.arange(0, 1.1, 0.2), fontsize=0, family='Times New Roman')\n",
    "    plt.grid()\n",
    "    plt.legend(prop=font_legend, loc='lower left')\n",
    "    plt.xlabel('Treatment', font1)\n",
    "    plt.ylabel('Response', font1)\n",
    "\n",
    "    plt.savefig(save_path + \"/Vc_Dr.pdf\", bbox_inches='tight')"
   ]
  },
  {
   "cell_type": "code",
   "execution_count": 531,
   "id": "7c851201",
   "metadata": {},
   "outputs": [],
   "source": [
    "def test0(model, test_matrix, t_grid_hat, targetreg, rho = [0.01, 0.15, 0.05, 0.1, 1, 10]):\n",
    "    n_test = test_matrix.shape[0]\n",
    "    mu = torch.zeros(n_test, n_test)\n",
    "    pi = torch.zeros(n_test, n_test)\n",
    "    mu_tr = torch.zeros(n_test, n_test)\n",
    "\n",
    "    test_loader = get_iter(test_matrix, batch_size=n_test, shuffle=False)\n",
    "    for _ in range(n_test):\n",
    "        for idx, (inputs, y) in enumerate(test_loader):\n",
    "            t = inputs[:, 0]\n",
    "            t *= 0\n",
    "            t += t_grid_hat[0, _]\n",
    "            x = inputs[:, 1:]\n",
    "            break\n",
    "        out = model.forward(t, x)\n",
    "        g = out[0].data.squeeze()\n",
    "        out = out[1].data.squeeze()\n",
    "        mu[_,:] = out\n",
    "        pi[_,:] = g\n",
    "        \n",
    "        tr_out = targetreg(t).data\n",
    "        mu_tr[_,:] = out + tr_out / (g + 1e-6)\n",
    "\n",
    "    #mu_mean = torch.mean(mu, 1, True)\n",
    "    #pi_mean = torch.mean(pi, 1, True)\n",
    "    #y_hat = (y.repeat(n_test, 1) - mu) / (pi + 1e-6) * pi_mean.repeat(1, n_test) + mu_mean.repeat(1, n_test)\n",
    "    g_hat = t_grid_hat[1]\n",
    "    g_tilde = torch.mean(g_hat).repeat(n_test)\n",
    "    #delta = torch.mean((y_hat - torch.reshape(g_hat, (n_test,1)).repeat(1, n_test)) ** 2, 1) - torch.mean((y_hat - torch.reshape(g_tilde, (n_test,1)).repeat(1, n_test)) ** 2, 1)\n",
    "    delta = torch.mean((mu_tr - torch.reshape(g_hat, (n_test,1)).repeat(1, n_test)) ** 2, 1) - torch.mean((mu_tr - torch.reshape(g_tilde, (n_test,1)).repeat(1, n_test)) ** 2, 1)\n",
    "\n",
    "    rho = np.array(rho)\n",
    "    delta0 = delta.repeat(len(rho), 1).numpy()\n",
    "    noise = rho.reshape(-1,1) * np.random.normal(size = n_test)\n",
    "    delta = delta0 + noise\n",
    "    theta = delta.sum(axis = 1) / (np.sqrt(n_test) * delta.std(axis = 1))\n",
    "    p_val = norm.cdf(theta)\n",
    "    return [p_val, delta0, theta] #[p_val, y_hat, mu, mu_tr, pi, y]"
   ]
  },
  {
   "cell_type": "code",
   "execution_count": 532,
   "id": "32c44c5c",
   "metadata": {},
   "outputs": [
    {
     "data": {
      "text/plain": [
       "array([0.09206258, 0.59775004, 0.65735574, 0.66312811, 0.66370321])"
      ]
     },
     "execution_count": 532,
     "metadata": {},
     "output_type": "execute_result"
    }
   ],
   "source": [
    "[p_val, delta0, theta] = test0(model, test_matrix, t_grid_hat, TargetReg, rho = [0.01, 0.1, 1, 10, 100]) # rho = 0.01\n",
    "p_val"
   ]
  },
  {
   "cell_type": "code",
   "execution_count": 537,
   "id": "d768a6e0",
   "metadata": {},
   "outputs": [
    {
     "data": {
      "text/plain": [
       "array([-2.03008369, -0.52852232, -0.37541187, -0.3600854 , -0.35855261])"
      ]
     },
     "execution_count": 537,
     "metadata": {},
     "output_type": "execute_result"
    }
   ],
   "source": [
    "rho = [0.01, 0.1, 1, 10, 100]\n",
    "rho = np.array(rho)\n",
    "noise = rho.reshape(-1,1) * np.random.normal(size = n_test)\n",
    "delta = delta0 + noise \n",
    "delta.sum(axis = 1) / (np.sqrt(n_test) * delta.std(axis = 1))"
   ]
  },
  {
   "cell_type": "code",
   "execution_count": 538,
   "id": "00da3555",
   "metadata": {},
   "outputs": [
    {
     "data": {
      "text/plain": [
       "array([-12.167435, -12.167435, -12.167435, -12.167435, -12.167435],\n",
       "      dtype=float32)"
      ]
     },
     "execution_count": 538,
     "metadata": {},
     "output_type": "execute_result"
    }
   ],
   "source": [
    "\n",
    "delta0.sum(axis = 1) / (np.sqrt(n_test) * delta0.std(axis = 1))"
   ]
  },
  {
   "cell_type": "code",
   "execution_count": 391,
   "id": "f2ac2e8b",
   "metadata": {},
   "outputs": [
    {
     "data": {
      "text/plain": [
       "tensor([[0.1063, 0.1063, 0.1063,  ..., 0.1063, 0.1063, 0.1063],\n",
       "        [0.1014, 0.1014, 0.1014,  ..., 0.1014, 0.1014, 0.1014],\n",
       "        [0.1015, 0.1015, 0.1016,  ..., 0.1016, 0.1015, 0.1015],\n",
       "        ...,\n",
       "        [0.0835, 0.0835, 0.0835,  ..., 0.0835, 0.0835, 0.0835],\n",
       "        [0.0833, 0.0833, 0.0833,  ..., 0.0833, 0.0833, 0.0833],\n",
       "        [0.1035, 0.1035, 0.1036,  ..., 0.1035, 0.1035, 0.1035]])"
      ]
     },
     "execution_count": 391,
     "metadata": {},
     "output_type": "execute_result"
    }
   ],
   "source": [
    "pi"
   ]
  },
  {
   "cell_type": "code",
   "execution_count": 394,
   "id": "8f2301d1",
   "metadata": {},
   "outputs": [],
   "source": [
    "mu_mean = torch.mean(mu, 1, True)\n",
    "pi_mean = torch.mean(pi, 1, True)\n",
    "y_hat = (y.repeat(n_test, 1) - mu) / (pi + 1e-6) * pi_mean.repeat(1, n_test) + mu_mean.repeat(1, n_test)"
   ]
  },
  {
   "cell_type": "code",
   "execution_count": 421,
   "id": "40905f9f",
   "metadata": {},
   "outputs": [],
   "source": [
    "mu_mean = torch.mean(mu, 1)\n",
    "pi_mean = torch.mean(pi, 1)\n",
    "y_hat1 = (y[0].repeat(1, n_test) - mu[:,0]) / (pi[:, 0] + 1e-6) * pi_mean + mu_mean"
   ]
  },
  {
   "cell_type": "code",
   "execution_count": 445,
   "id": "a0978c1d",
   "metadata": {
    "scrolled": true
   },
   "outputs": [
    {
     "data": {
      "image/png": "[encoded data removed]",
      "text/plain": [
       "<Figure size 640x480 with 1 Axes>"
      ]
     },
     "metadata": {},
     "output_type": "display_data"
    }
   ],
   "source": [
    "#plt.scatter(t_grid[0], pi[:,0])\n",
    "plt.scatter(t_grid[0], torch.mean(y_hat, 1))\n",
    "plt.show()"
   ]
  },
  {
   "cell_type": "code",
   "execution_count": 446,
   "id": "4832c9e3",
   "metadata": {},
   "outputs": [
    {
     "data": {
      "image/png": "[encoded data removed]",
      "text/plain": [
       "<Figure size 640x480 with 1 Axes>"
      ]
     },
     "metadata": {},
     "output_type": "display_data"
    }
   ],
   "source": [
    "idx = 10\n",
    "plt.scatter(t_grid[0], y_hat[:,idx], label = 'DR')\n",
    "plt.scatter(t_grid[0], mu_tr[:, idx], label = 'TR')\n",
    "#plt.scatter(t_grid[0], y_hat1, label = 'DR')\n",
    "plt.scatter(t_grid[0], counterfactual[idx,:], label = 'Truth')\n",
    "plt.scatter(t_grid[0], mu[:,idx], label = 'VCNet')\n",
    "#plt.ylim(-1, 1)\n",
    "plt.legend(loc = 'lower right')\n",
    "plt.show()"
   ]
  },
  {
   "cell_type": "code",
   "execution_count": 386,
   "id": "6346c6bc",
   "metadata": {},
   "outputs": [],
   "source": [
    "g_hat = t_grid_hat[1]\n",
    "g_tilde = torch.mean(g_hat).repeat(n_test)\n",
    "delta = torch.mean((mu_tr - torch.reshape(g_hat, (n_test,1)).repeat(1, n_test)) ** 2, 1) - torch.mean((mu_tr - torch.reshape(g_tilde, (n_test,1)).repeat(1, n_test)) ** 2, 1)"
   ]
  },
  {
   "cell_type": "code",
   "execution_count": 416,
   "id": "a94c4d15",
   "metadata": {},
   "outputs": [
    {
     "data": {
      "image/png": "[encoded data removed]",
      "text/plain": [
       "<Figure size 640x480 with 1 Axes>"
      ]
     },
     "metadata": {},
     "output_type": "display_data"
    }
   ],
   "source": [
    "plt.scatter(t_grid[0], g_hat, label = 'Estimate')\n",
    "plt.scatter(t_grid[0], g_tilde, label = 'Under $H_0$')\n",
    "plt.scatter(t_grid[0], t_grid[1], label = 'Truth')\n",
    "plt.ylim(-0.5, 0.5)\n",
    "plt.legend(loc = 'lower right')\n",
    "plt.show()"
   ]
  },
  {
   "cell_type": "code",
   "execution_count": 372,
   "id": "008d4102",
   "metadata": {
    "scrolled": true
   },
   "outputs": [
    {
     "data": {
      "text/plain": [
       "tensor(0.4979)"
      ]
     },
     "execution_count": 372,
     "metadata": {},
     "output_type": "execute_result"
    }
   ],
   "source": [
    "torch.mean((y_hat - counterfactual) ** 2)"
   ]
  },
  {
   "cell_type": "code",
   "execution_count": 373,
   "id": "83018bc9",
   "metadata": {},
   "outputs": [
    {
     "data": {
      "text/plain": [
       "tensor(0.4120)"
      ]
     },
     "execution_count": 373,
     "metadata": {},
     "output_type": "execute_result"
    }
   ],
   "source": [
    "torch.mean((torch.transpose(mu, 0, 1) - counterfactual) ** 2)"
   ]
  },
  {
   "cell_type": "code",
   "execution_count": 374,
   "id": "1d07aace",
   "metadata": {},
   "outputs": [
    {
     "data": {
      "text/plain": [
       "tensor(0.0110)"
      ]
     },
     "execution_count": 374,
     "metadata": {},
     "output_type": "execute_result"
    }
   ],
   "source": [
    "torch.mean((torch.transpose(mu_tr, 0, 1) - counterfactual) ** 2)"
   ]
  },
  {
   "cell_type": "code",
   "execution_count": 594,
   "id": "647980ce",
   "metadata": {},
   "outputs": [
    {
     "name": "stdout",
     "output_type": "stream",
     "text": [
      "delta: 0.5\n",
      "inf_ratio: 0.1\n",
      "model =  Vcnet_tr\n",
      "/Users/yanyuchen/Documents/GitHub/causal_net_test/models/dynamic_net.py:83: UserWarning: The use of `x.T` on tensors of dimension other than 2 to reverse their shape is deprecated and it will throw an error in a future release. Consider `x.mT` to transpose batches of matrices or `x.permute(*torch.arange(x.ndim - 1, -1, -1))` to reverse the dimensions of a tensor. (Triggered internally at /Users/runner/miniforge3/conda-bld/pytorch-recipe_1680607622815/work/aten/src/ATen/native/TensorShape.cpp:3575.)\n",
      "  x_feature_weight = torch.matmul(self.weight.T, x_feature.T).T # bs, outd, d\n",
      "iteration: 1/1\n",
      "current epoch:  0\n",
      "loss:  tensor(2.1672)\n",
      "iteration: 1/1\n",
      "current epoch:  100\n",
      "loss:  tensor(1.7475)\n",
      "iteration: 1/1\n",
      "current epoch:  200\n",
      "loss:  tensor(1.7263)\n",
      "iteration: 1/1\n",
      "current epoch:  300\n",
      "loss:  tensor(1.7187)\n",
      "iteration: 1/1\n",
      "current epoch:  400\n",
      "loss:  tensor(1.7134)\n",
      "iteration: 1/1\n",
      "current epoch:  500\n",
      "loss:  tensor(1.7089)\n",
      "iteration: 1/1\n",
      "current epoch:  600\n",
      "loss:  tensor(1.7050)\n",
      "iteration: 1/1\n",
      "current epoch:  700\n",
      "loss:  tensor(1.7019)\n",
      "iteration: 1/1\n",
      "current epoch:  800\n",
      "loss:  tensor(1.6991)\n",
      "iteration: 1/1\n",
      "current epoch:  900\n",
      "loss:  tensor(1.6963)\n"
     ]
    }
   ],
   "source": [
    "!python turnning.py"
   ]
  },
  {
   "cell_type": "code",
   "execution_count": 111,
   "id": "20613ecb",
   "metadata": {},
   "outputs": [],
   "source": [
    "def turn_rho(delta0, rho, alpha = 0.05):\n",
    "    U, n_test = delta0.shape\n",
    "    p_val = np.zeros(len(rho) * U).reshape(len(rho), U)\n",
    "    rej = np.zeros(len(rho))\n",
    "    for _ in range(len(rho)):\n",
    "        noise = rho[_]\n",
    "        delta = delta0 + noise * np.random.normal(size = U * n_test).reshape(U, n_test)\n",
    "        theta = delta.sum(axis = 1) / (np.sqrt(n_test) * delta.std(axis = 1))\n",
    "        p_val[_,:] = norm.cdf(theta)\n",
    "        rej[_] = (p_val[_,:] <= alpha).mean()\n",
    "    return p_val, rej"
   ]
  },
  {
   "cell_type": "code",
   "execution_count": 150,
   "id": "9e39293d",
   "metadata": {},
   "outputs": [],
   "source": [
    "delta = 0.3\n",
    "inf_ratio = 0.4\n",
    "Delta = pd.read_csv(args.save_dir + f'/Delta_delta_{delta}_inf_ratio_{inf_ratio}.txt', header=None, sep=' ')"
   ]
  },
  {
   "cell_type": "code",
   "execution_count": 151,
   "id": "80d242ef",
   "metadata": {},
   "outputs": [
    {
     "data": {
      "text/plain": [
       "array([0.06791, 0.06046, 0.05822, 0.05629, 0.05258, 0.05154, 0.05193])"
      ]
     },
     "execution_count": 151,
     "metadata": {},
     "output_type": "execute_result"
    }
   ],
   "source": [
    "rho = [0.2, 0.3, 0.4, 0.5, 1, 2, 2.5]\n",
    "rej = np.zeros(len(rho))\n",
    "num = 1000\n",
    "#p_val = np.zeros(len(rho) * Delta.shape[0] * num).reshape(len(rho), Delta.shape[0], num)\n",
    "for i in range(num):\n",
    "    p_val, rej0 = turn_rho(Delta , rho)\n",
    "    rej += rej0\n",
    "rej /= num\n",
    "rej"
   ]
  },
  {
   "cell_type": "code",
   "execution_count": 152,
   "id": "7ece8fdc",
   "metadata": {},
   "outputs": [
    {
     "data": {
      "image/png": "[encoded data removed]",
      "text/plain": [
       "<Figure size 640x480 with 1 Axes>"
      ]
     },
     "metadata": {},
     "output_type": "display_data"
    }
   ],
   "source": [
    "sm.qqplot(p_val[2,:], stats.uniform, line = '45')\n",
    "pylab.show()"
   ]
  },
  {
   "cell_type": "code",
   "execution_count": 14,
   "id": "94282b6a",
   "metadata": {},
   "outputs": [],
   "source": [
    "import scipy.stats as stats"
   ]
  },
  {
   "cell_type": "code",
   "execution_count": 27,
   "id": "f0efe0f7",
   "metadata": {},
   "outputs": [],
   "source": [
    "import sys"
   ]
  },
  {
   "cell_type": "code",
   "execution_count": 29,
   "id": "33bb9b01",
   "metadata": {},
   "outputs": [
    {
     "name": "stdout",
     "output_type": "stream",
     "text": [
      "Collecting package metadata (current_repodata.json): done\n",
      "Solving environment: done\n",
      "\n",
      "\n",
      "==> WARNING: A newer version of conda exists. <==\n",
      "  current version: 23.1.0\n",
      "  latest version: 23.3.1\n",
      "\n",
      "Please update conda by running\n",
      "\n",
      "    $ conda update -n base -c defaults conda\n",
      "\n",
      "Or to minimize the number of packages updated during conda update use\n",
      "\n",
      "     conda install conda=23.3.1\n",
      "\n",
      "\n",
      "\n",
      "# All requested packages already installed.\n",
      "\n"
     ]
    }
   ],
   "source": [
    "!conda install --yes --prefix {sys.prefix} statsmodels"
   ]
  },
  {
   "cell_type": "code",
   "execution_count": 30,
   "id": "74f4ccc3",
   "metadata": {},
   "outputs": [],
   "source": [
    "import statsmodels.api as sm\n",
    "import pylab"
   ]
  },
  {
   "cell_type": "code",
   "execution_count": 92,
   "id": "91fa2c91",
   "metadata": {},
   "outputs": [],
   "source": [
    "def hommel_p(comb_p):\n",
    "    U = len(comb_p)\n",
    "    ratio = 1/np.arange(1, (U+1))\n",
    "    p_order = np.min(np.sort(comb_p) * ratio * U)\n",
    "    return np.min(np.append(np.sum(ratio) * p_order, 1))\n",
    "\n",
    "def q_order_p(comb_p):\n",
    "    U = len(comb_p)\n",
    "    ratio = 1/np.arange(1, (U+1))\n",
    "    return np.min(np.append(np.sort(comb_p) * ratio * U, 1))"
   ]
  },
  {
   "cell_type": "code",
   "execution_count": 104,
   "id": "1ab18e60",
   "metadata": {},
   "outputs": [],
   "source": [
    "tmp = np.apply_along_axis(q_order_p, 2, p_val)"
   ]
  },
  {
   "cell_type": "code",
   "execution_count": 105,
   "id": "cf0bc7b5",
   "metadata": {},
   "outputs": [
    {
     "data": {
      "text/plain": [
       "(6, 100)"
      ]
     },
     "execution_count": 105,
     "metadata": {},
     "output_type": "execute_result"
    }
   ],
   "source": [
    "tmp.shape"
   ]
  }
 ],
 "metadata": {
  "kernelspec": {
   "display_name": "Python 3 (ipykernel)",
   "language": "python",
   "name": "python3"
  },
  "language_info": {
   "codemirror_mode": {
    "name": "ipython",
    "version": 3
   },
   "file_extension": ".py",
   "mimetype": "text/x-python",
   "name": "python",
   "nbconvert_exporter": "python",
   "pygments_lexer": "ipython3",
   "version": "3.11.3"
  }
 },
 "nbformat": 4,
 "nbformat_minor": 5
}
