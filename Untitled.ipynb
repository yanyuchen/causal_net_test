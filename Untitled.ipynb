{
 "cells": [
  {
   "cell_type": "code",
   "execution_count": 1,
   "id": "545398cb",
   "metadata": {},
   "outputs": [],
   "source": [
    "import torch\n",
    "import math\n",
    "import numpy as np\n",
    "import os\n",
    "import pandas as pd\n",
    "\n",
    "from models.dynamic_net import Vcnet, TR #Drnet\n",
    "from data.data import get_iter\n",
    "from utils.eval import curve\n",
    "\n",
    "import argparse\n",
    "\n",
    "import matplotlib.pyplot as plt"
   ]
  },
  {
   "cell_type": "code",
   "execution_count": 2,
   "id": "de566f28",
   "metadata": {},
   "outputs": [],
   "source": [
    "def adjust_learning_rate(optimizer, init_lr, epoch):\n",
    "    if lr_type == 'cos':  # cos without warm-up\n",
    "        lr = 0.5 * init_lr * (1 + math.cos(math.pi * epoch / num_epoch))\n",
    "    elif lr_type == 'exp':\n",
    "        step = 1\n",
    "        decay = 0.96\n",
    "        lr = init_lr * (decay ** (epoch // step))\n",
    "    elif lr_type == 'fixed':\n",
    "        lr = init_lr\n",
    "    else:\n",
    "        raise NotImplementedError\n",
    "    for param_group in optimizer.param_groups:\n",
    "        param_group['lr'] = lr\n",
    "    return lr\n",
    "\n",
    "def save_checkpoint(state, checkpoint_dir='.'):\n",
    "    filename = os.path.join(checkpoint_dir, model_name + '_ckpt.pth.tar')\n",
    "    print('=> Saving checkpoint to {}'.format(filename))\n",
    "    torch.save(state, filename)\n",
    "\n",
    "# criterion\n",
    "def criterion(out, y, alpha=0.5, epsilon=1e-6):\n",
    "    return ((out[1].squeeze() - y.squeeze())**2).mean() - alpha * torch.log(out[0] + epsilon).mean()\n",
    "\n",
    "def criterion_TR(out, trg, y, beta=1., epsilon=1e-6):\n",
    "    # out[1] is Q\n",
    "    # out[0] is g\n",
    "    return beta * ((y.squeeze() - trg.squeeze()/(out[0].squeeze() + epsilon) - out[1].squeeze())**2).mean()"
   ]
  },
  {
   "cell_type": "code",
   "execution_count": 61,
   "id": "22aa59ba",
   "metadata": {},
   "outputs": [],
   "source": [
    "test_loader = get_iter(test_matrix, batch_size=test_matrix.shape[0], shuffle=False)"
   ]
  },
  {
   "cell_type": "code",
   "execution_count": 90,
   "id": "16f596dd",
   "metadata": {},
   "outputs": [],
   "source": [
    "for idx, (inputs, y) in enumerate(test_loader):\n",
    "    t = inputs[:, 0]\n",
    "    t *= 0\n",
    "    t += t_grid[0, 0]\n",
    "    x = inputs[:, 1:]\n",
    "    break\n",
    "\n",
    "out = model.forward(t, x)\n",
    "tr_out = TargetReg(t).data\n",
    "g = out[0].data.squeeze()\n",
    "out = out[1].data.squeeze() + tr_out / (g + 1e-6)"
   ]
  },
  {
   "cell_type": "code",
   "execution_count": 91,
   "id": "74bb3427",
   "metadata": {},
   "outputs": [
    {
     "data": {
      "text/plain": [
       "tensor(0.2902)"
      ]
     },
     "execution_count": 91,
     "metadata": {},
     "output_type": "execute_result"
    }
   ],
   "source": [
    "out.mean()"
   ]
  },
  {
   "cell_type": "code",
   "execution_count": 102,
   "id": "868cc66d",
   "metadata": {},
   "outputs": [
    {
     "data": {
      "text/plain": [
       "tensor(0.3089)"
      ]
     },
     "execution_count": 102,
     "metadata": {},
     "output_type": "execute_result"
    }
   ],
   "source": [
    "(t_grid[1,0] - out[0]) * g.mean() / (g[0] + 1e-6) + out.mean()"
   ]
  },
  {
   "cell_type": "code",
   "execution_count": 106,
   "id": "c7fdb8fa",
   "metadata": {},
   "outputs": [
    {
     "data": {
      "text/plain": [
       "200"
      ]
     },
     "execution_count": 106,
     "metadata": {},
     "output_type": "execute_result"
    }
   ],
   "source": [
    "n_test = t_grid.shape[1]\n",
    "n_test"
   ]
  },
  {
   "cell_type": "code",
   "execution_count": 110,
   "id": "d3e5572b",
   "metadata": {},
   "outputs": [],
   "source": [
    "PO = torch.zeros(n_test)"
   ]
  },
  {
   "cell_type": "code",
   "execution_count": 111,
   "id": "4bb1770a",
   "metadata": {},
   "outputs": [
    {
     "data": {
      "text/plain": [
       "tensor([0., 0., 0., 0., 0., 0., 0., 0., 0., 0., 0., 0., 0., 0., 0., 0., 0., 0., 0., 0., 0., 0., 0., 0.,\n",
       "        0., 0., 0., 0., 0., 0., 0., 0., 0., 0., 0., 0., 0., 0., 0., 0., 0., 0., 0., 0., 0., 0., 0., 0.,\n",
       "        0., 0., 0., 0., 0., 0., 0., 0., 0., 0., 0., 0., 0., 0., 0., 0., 0., 0., 0., 0., 0., 0., 0., 0.,\n",
       "        0., 0., 0., 0., 0., 0., 0., 0., 0., 0., 0., 0., 0., 0., 0., 0., 0., 0., 0., 0., 0., 0., 0., 0.,\n",
       "        0., 0., 0., 0., 0., 0., 0., 0., 0., 0., 0., 0., 0., 0., 0., 0., 0., 0., 0., 0., 0., 0., 0., 0.,\n",
       "        0., 0., 0., 0., 0., 0., 0., 0., 0., 0., 0., 0., 0., 0., 0., 0., 0., 0., 0., 0., 0., 0., 0., 0.,\n",
       "        0., 0., 0., 0., 0., 0., 0., 0., 0., 0., 0., 0., 0., 0., 0., 0., 0., 0., 0., 0., 0., 0., 0., 0.,\n",
       "        0., 0., 0., 0., 0., 0., 0., 0., 0., 0., 0., 0., 0., 0., 0., 0., 0., 0., 0., 0., 0., 0., 0., 0.,\n",
       "        0., 0., 0., 0., 0., 0., 0., 0.])"
      ]
     },
     "execution_count": 111,
     "metadata": {},
     "output_type": "execute_result"
    }
   ],
   "source": [
    "PO"
   ]
  },
  {
   "cell_type": "code",
   "execution_count": 112,
   "id": "2ceadcf4",
   "metadata": {},
   "outputs": [],
   "source": [
    "def pseudo_outcome(model, test_matrix, t_grid):\n",
    "    n_test = t_grid.shape[1]\n",
    "    PO = torch.zeros(n_test)\n",
    "\n",
    "    test_loader = get_iter(test_matrix, batch_size=test_matrix.shape[0], shuffle=False)\n",
    "    for _ in range(n_test):\n",
    "        for idx, (inputs, y) in enumerate(test_loader):\n",
    "            t = inputs[:, 0]\n",
    "            t *= 0\n",
    "            t += t_grid[0, _]\n",
    "            x = inputs[:, 1:]\n",
    "            break\n",
    "        out = model.forward(t, x)\n",
    "        g = out[0].data.squeeze()\n",
    "        out = out[1].data.squeeze() \n",
    "        PO[_] = (t_grid[1,_] - out[_]) * g.mean() / (g[_] + 1e-6) + out.mean()\n",
    "    return PO"
   ]
  },
  {
   "cell_type": "code",
   "execution_count": 113,
   "id": "8ae46137",
   "metadata": {},
   "outputs": [],
   "source": [
    "PO = pseudo_outcome(model, test_matrix, t_grid)"
   ]
  },
  {
   "cell_type": "code",
   "execution_count": 120,
   "id": "c72314f7",
   "metadata": {},
   "outputs": [
    {
     "ename": "ModuleNotFoundError",
     "evalue": "No module named 'scipy'",
     "output_type": "error",
     "traceback": [
      "\u001b[0;31m---------------------------------------------------------------------------\u001b[0m",
      "\u001b[0;31mModuleNotFoundError\u001b[0m                       Traceback (most recent call last)",
      "\u001b[0;32m/var/folders/tl/kfv9ppq51f73my9lv4fl4n5m0000gn/T/ipykernel_44952/2986536807.py\u001b[0m in \u001b[0;36m<module>\u001b[0;34m\u001b[0m\n\u001b[0;32m----> 1\u001b[0;31m \u001b[0;32mfrom\u001b[0m \u001b[0mscipy\u001b[0m\u001b[0;34m.\u001b[0m\u001b[0mstats\u001b[0m \u001b[0;32mimport\u001b[0m \u001b[0mnorm\u001b[0m\u001b[0;34m\u001b[0m\u001b[0;34m\u001b[0m\u001b[0m\n\u001b[0m",
      "\u001b[0;31mModuleNotFoundError\u001b[0m: No module named 'scipy'"
     ]
    }
   ],
   "source": [
    "from scipy.stats import norm"
   ]
  },
  {
   "cell_type": "code",
   "execution_count": 118,
   "id": "d2af49da",
   "metadata": {},
   "outputs": [],
   "source": [
    "def test(PO, t_grid_hat, rho = np.array([0.01, 0.05, 0.1, 0.2, 0.5])):\n",
    "    n_test = t_grid_hat.shape[1]\n",
    "    delta = ((PO - t_grid_hat[1, :]) ** 2 - (PO - t_grid_hat[1, :].mean()) ** 2) + rho.reshape(-1,1) * np.random.normal(size = n_test)\n",
    "    theta = delta.sum(axis = 1) / (np.sqrt(n_test) * delta.std(axis = 1)) # test statistic\n",
    "    p_val = norm.cdf(theta)\n",
    "    return p_val"
   ]
  },
  {
   "cell_type": "code",
   "execution_count": 119,
   "id": "fd23d997",
   "metadata": {},
   "outputs": [
    {
     "ename": "NameError",
     "evalue": "name 'norm' is not defined",
     "output_type": "error",
     "traceback": [
      "\u001b[0;31m---------------------------------------------------------------------------\u001b[0m",
      "\u001b[0;31mNameError\u001b[0m                                 Traceback (most recent call last)",
      "\u001b[0;32m/var/folders/tl/kfv9ppq51f73my9lv4fl4n5m0000gn/T/ipykernel_44952/780497016.py\u001b[0m in \u001b[0;36m<module>\u001b[0;34m\u001b[0m\n\u001b[0;32m----> 1\u001b[0;31m \u001b[0mtest\u001b[0m\u001b[0;34m(\u001b[0m\u001b[0mPO\u001b[0m\u001b[0;34m,\u001b[0m \u001b[0mt_grid_hat\u001b[0m\u001b[0;34m)\u001b[0m\u001b[0;34m\u001b[0m\u001b[0;34m\u001b[0m\u001b[0m\n\u001b[0m",
      "\u001b[0;32m/var/folders/tl/kfv9ppq51f73my9lv4fl4n5m0000gn/T/ipykernel_44952/4068093183.py\u001b[0m in \u001b[0;36mtest\u001b[0;34m(PO, t_grid_hat, rho)\u001b[0m\n\u001b[1;32m      3\u001b[0m     \u001b[0mdelta\u001b[0m \u001b[0;34m=\u001b[0m \u001b[0;34m(\u001b[0m\u001b[0;34m(\u001b[0m\u001b[0mPO\u001b[0m \u001b[0;34m-\u001b[0m \u001b[0mt_grid_hat\u001b[0m\u001b[0;34m[\u001b[0m\u001b[0;36m1\u001b[0m\u001b[0;34m,\u001b[0m \u001b[0;34m:\u001b[0m\u001b[0;34m]\u001b[0m\u001b[0;34m)\u001b[0m \u001b[0;34m**\u001b[0m \u001b[0;36m2\u001b[0m \u001b[0;34m-\u001b[0m \u001b[0;34m(\u001b[0m\u001b[0mPO\u001b[0m \u001b[0;34m-\u001b[0m \u001b[0mt_grid_hat\u001b[0m\u001b[0;34m[\u001b[0m\u001b[0;36m1\u001b[0m\u001b[0;34m,\u001b[0m \u001b[0;34m:\u001b[0m\u001b[0;34m]\u001b[0m\u001b[0;34m.\u001b[0m\u001b[0mmean\u001b[0m\u001b[0;34m(\u001b[0m\u001b[0;34m)\u001b[0m\u001b[0;34m)\u001b[0m \u001b[0;34m**\u001b[0m \u001b[0;36m2\u001b[0m\u001b[0;34m)\u001b[0m \u001b[0;34m+\u001b[0m \u001b[0mrho\u001b[0m\u001b[0;34m.\u001b[0m\u001b[0mreshape\u001b[0m\u001b[0;34m(\u001b[0m\u001b[0;34m-\u001b[0m\u001b[0;36m1\u001b[0m\u001b[0;34m,\u001b[0m\u001b[0;36m1\u001b[0m\u001b[0;34m)\u001b[0m \u001b[0;34m*\u001b[0m \u001b[0mnp\u001b[0m\u001b[0;34m.\u001b[0m\u001b[0mrandom\u001b[0m\u001b[0;34m.\u001b[0m\u001b[0mnormal\u001b[0m\u001b[0;34m(\u001b[0m\u001b[0msize\u001b[0m \u001b[0;34m=\u001b[0m \u001b[0mn_test\u001b[0m\u001b[0;34m)\u001b[0m\u001b[0;34m\u001b[0m\u001b[0;34m\u001b[0m\u001b[0m\n\u001b[1;32m      4\u001b[0m     \u001b[0mtheta\u001b[0m \u001b[0;34m=\u001b[0m \u001b[0mdelta\u001b[0m\u001b[0;34m.\u001b[0m\u001b[0msum\u001b[0m\u001b[0;34m(\u001b[0m\u001b[0maxis\u001b[0m \u001b[0;34m=\u001b[0m \u001b[0;36m1\u001b[0m\u001b[0;34m)\u001b[0m \u001b[0;34m/\u001b[0m \u001b[0;34m(\u001b[0m\u001b[0mnp\u001b[0m\u001b[0;34m.\u001b[0m\u001b[0msqrt\u001b[0m\u001b[0;34m(\u001b[0m\u001b[0mn_test\u001b[0m\u001b[0;34m)\u001b[0m \u001b[0;34m*\u001b[0m \u001b[0mdelta\u001b[0m\u001b[0;34m.\u001b[0m\u001b[0mstd\u001b[0m\u001b[0;34m(\u001b[0m\u001b[0maxis\u001b[0m \u001b[0;34m=\u001b[0m \u001b[0;36m1\u001b[0m\u001b[0;34m)\u001b[0m\u001b[0;34m)\u001b[0m \u001b[0;31m# test statistic\u001b[0m\u001b[0;34m\u001b[0m\u001b[0;34m\u001b[0m\u001b[0m\n\u001b[0;32m----> 5\u001b[0;31m     \u001b[0mp_val\u001b[0m \u001b[0;34m=\u001b[0m \u001b[0mnorm\u001b[0m\u001b[0;34m.\u001b[0m\u001b[0mcdf\u001b[0m\u001b[0;34m(\u001b[0m\u001b[0mtheta\u001b[0m\u001b[0;34m)\u001b[0m\u001b[0;34m\u001b[0m\u001b[0;34m\u001b[0m\u001b[0m\n\u001b[0m\u001b[1;32m      6\u001b[0m     \u001b[0;32mreturn\u001b[0m \u001b[0mp_val\u001b[0m\u001b[0;34m\u001b[0m\u001b[0;34m\u001b[0m\u001b[0m\n",
      "\u001b[0;31mNameError\u001b[0m: name 'norm' is not defined"
     ]
    }
   ],
   "source": [
    "test(PO, t_grid_hat)"
   ]
  },
  {
   "cell_type": "code",
   "execution_count": 28,
   "id": "b5e2c8fb",
   "metadata": {},
   "outputs": [],
   "source": [
    "class args_:\n",
    "    data_dir = 'dataset/simu2/eval/0'\n",
    "    save_dir = 'logs/simu2/eval'\n",
    "    n_epochs = 800\n",
    "    verbose = 100\n",
    "    plt_adrf = False\n",
    "    \n",
    "args = args_"
   ]
  },
  {
   "cell_type": "code",
   "execution_count": 30,
   "id": "f62cd7b8",
   "metadata": {},
   "outputs": [
    {
     "name": "stdout",
     "output_type": "stream",
     "text": [
      "model =  Vcnet_tr\n",
      "current epoch:  0\n",
      "loss:  tensor(1.9932)\n",
      "current epoch:  100\n",
      "loss:  tensor(1.7119)\n",
      "current epoch:  200\n",
      "loss:  tensor(1.7002)\n",
      "current epoch:  300\n",
      "loss:  tensor(1.6892)\n",
      "current epoch:  400\n",
      "loss:  tensor(1.6831)\n",
      "current epoch:  500\n",
      "loss:  tensor(1.6805)\n",
      "current epoch:  600\n",
      "loss:  tensor(1.6792)\n",
      "current epoch:  700\n",
      "loss:  tensor(1.6780)\n",
      "current loss:  1.6772329807281494\n",
      "current test loss:  0.011964826844632626\n",
      "-----------------------------------------------------------------\n",
      "=> Saving checkpoint to logs/simu2/eval/Vcnet_tr_ckpt.pth.tar\n",
      "-----------------------------------------------------------------\n"
     ]
    },
    {
     "data": {
      "image/png": "[encoded data removed]",
      "text/plain": [
       "<Figure size 432x288 with 1 Axes>"
      ]
     },
     "metadata": {
      "needs_background": "light"
     },
     "output_type": "display_data"
    }
   ],
   "source": [
    "# optimizer\n",
    "lr_type = 'fixed'\n",
    "wd = 5e-3\n",
    "momentum = 0.9\n",
    "# targeted regularization optimizer\n",
    "tr_wd = 5e-3\n",
    "\n",
    "num_epoch = args.n_epochs\n",
    "\n",
    "# check val loss\n",
    "verbose = args.verbose\n",
    "\n",
    "load_path = args.data_dir\n",
    "save_path = args.save_dir\n",
    "if not os.path.exists(save_path):\n",
    "    os.makedirs(save_path)\n",
    "\n",
    "data = pd.read_csv(load_path + '/train.txt', header=None, sep=' ')\n",
    "train_matrix = torch.from_numpy(data.to_numpy()).float()\n",
    "data = pd.read_csv(load_path + '/test.txt', header=None, sep=' ')\n",
    "test_matrix = torch.from_numpy(data.to_numpy()).float()\n",
    "data = pd.read_csv(load_path + '/t_grid.txt', header=None, sep=' ')\n",
    "t_grid = torch.from_numpy(data.to_numpy()).float()\n",
    "\n",
    "train_loader = get_iter(train_matrix, batch_size=500, shuffle=True)\n",
    "test_loader = get_iter(test_matrix, batch_size=test_matrix.shape[0], shuffle=False)\n",
    "\n",
    "grid = []\n",
    "MSE = []\n",
    "\n",
    "# choose from {'Tarnet', 'Tarnet_tr', 'Drnet', 'Drnet_tr', 'Vcnet', 'Vcnet_tr'}\n",
    "method_list = ['Vcnet_tr']\n",
    "\n",
    "for model_name in method_list:\n",
    "    # import model\n",
    "    if model_name == 'Vcnet' or model_name == 'Vcnet_tr':\n",
    "        cfg_density = [(4, 50, 1, 'relu'), (50, 50, 1, 'relu')]\n",
    "        num_grid = 10\n",
    "        cfg = [(50, 50, 1, 'relu'), (50, 1, 1, 'id')]\n",
    "        degree = 2\n",
    "        knots = [0.33, 0.66]\n",
    "        model = Vcnet(cfg_density, num_grid, cfg, degree, knots)\n",
    "        model._initialize_weights()\n",
    "\n",
    "    elif model_name == 'Drnet' or model_name == 'Drnet_tr':\n",
    "        cfg_density = [(6, 50, 1, 'relu'), (50, 50, 1, 'relu')]\n",
    "        num_grid = 10\n",
    "        cfg = [(50, 50, 1, 'relu'), (50, 1, 1, 'id')]\n",
    "        isenhance = 1\n",
    "        model = Drnet(cfg_density, num_grid, cfg, isenhance=isenhance)\n",
    "        model._initialize_weights()\n",
    "\n",
    "    elif model_name == 'Tarnet' or model_name == 'Tarnet_tr':\n",
    "        cfg_density = [(6, 50, 1, 'relu'), (50, 50, 1, 'relu')]\n",
    "        num_grid = 10\n",
    "        cfg = [(50, 50, 1, 'relu'), (50, 1, 1, 'id')]\n",
    "        isenhance = 0\n",
    "        model = Drnet(cfg_density, num_grid, cfg, isenhance=isenhance)\n",
    "        model._initialize_weights()\n",
    "\n",
    "    # use Target Regularization?\n",
    "    if model_name == 'Vcnet_tr' or model_name == 'Drnet_tr' or model_name == 'Tarnet_tr':\n",
    "        isTargetReg = 1\n",
    "    else:\n",
    "        isTargetReg = 0\n",
    "\n",
    "    if isTargetReg:\n",
    "        tr_knots = list(np.arange(0.1, 1, 0.1))\n",
    "        tr_degree = 2\n",
    "        TargetReg = TR(tr_degree, tr_knots)\n",
    "        TargetReg._initialize_weights()\n",
    "\n",
    "    # best cfg for each model\n",
    "    if model_name == 'Tarnet':\n",
    "        init_lr = 0.05\n",
    "        alpha = 1.0\n",
    "    elif model_name == 'Tarnet_tr':\n",
    "        init_lr = 0.05\n",
    "        alpha = 0.5\n",
    "        tr_init_lr = 0.001\n",
    "        beta = 1.\n",
    "    elif model_name == 'Drnet':\n",
    "        init_lr = 0.05\n",
    "        alpha = 1.\n",
    "    elif model_name == 'Drnet_tr':\n",
    "        init_lr = 0.05\n",
    "        # init_lr = 0.05 tuned\n",
    "        alpha = 0.5\n",
    "        tr_init_lr = 0.001\n",
    "        beta = 1.\n",
    "    elif model_name == 'Vcnet':\n",
    "        init_lr = 0.0001\n",
    "        alpha = 0.5\n",
    "    elif model_name == 'Vcnet_tr':\n",
    "        init_lr = 0.0001\n",
    "        alpha = 0.5\n",
    "        tr_init_lr = 0.001\n",
    "        beta = 1.\n",
    "\n",
    "    optimizer = torch.optim.SGD(model.parameters(), lr=init_lr, momentum=momentum, weight_decay=wd, nesterov=True)\n",
    "\n",
    "    if isTargetReg:\n",
    "        tr_optimizer = torch.optim.SGD(TargetReg.parameters(), lr=tr_init_lr, weight_decay=tr_wd)\n",
    "\n",
    "    print('model = ', model_name)\n",
    "    loss_values = []\n",
    "    for epoch in range(num_epoch):\n",
    "        for idx, (inputs, y) in enumerate(train_loader):\n",
    "            t = inputs[:, 0]\n",
    "            x = inputs[:, 1:]\n",
    "\n",
    "            if isTargetReg:\n",
    "                optimizer.zero_grad()\n",
    "                out = model.forward(t, x)\n",
    "                trg = TargetReg(t)\n",
    "                loss = criterion(out, y, alpha=alpha) + criterion_TR(out, trg, y, beta=beta)\n",
    "                loss.backward()\n",
    "                optimizer.step()\n",
    "\n",
    "                tr_optimizer.zero_grad()\n",
    "                out = model.forward(t, x)\n",
    "                trg = TargetReg(t)\n",
    "                tr_loss = criterion_TR(out, trg, y, beta=beta)\n",
    "                tr_loss.backward()\n",
    "                tr_optimizer.step()\n",
    "            else:\n",
    "                optimizer.zero_grad()\n",
    "                out = model.forward(t, x)\n",
    "                loss = criterion(out, y, alpha=alpha)\n",
    "                loss.backward()\n",
    "                optimizer.step()\n",
    "\n",
    "            loss_values.append(loss.data)\n",
    "\n",
    "        if epoch % verbose == 0:\n",
    "            print('current epoch: ', epoch)\n",
    "            print('loss: ', loss.data)\n",
    "\n",
    "\n",
    "\n",
    "    if isTargetReg:\n",
    "        t_grid_hat, mse = curve(model, test_matrix, t_grid, targetreg=TargetReg)\n",
    "    else:\n",
    "        t_grid_hat, mse = curve(model, test_matrix, t_grid)\n",
    "\n",
    "    mse = float(mse)\n",
    "    print('current loss: ', float(loss.data))\n",
    "    print('current test loss: ', mse)\n",
    "    print('-----------------------------------------------------------------')\n",
    "\n",
    "    save_checkpoint({\n",
    "        'model': model_name,\n",
    "        'best_test_loss': mse,\n",
    "        'model_state_dict': model.state_dict(),\n",
    "        'TR_state_dict': TargetReg.state_dict() if isTargetReg else None,\n",
    "    }, checkpoint_dir=save_path)\n",
    "\n",
    "    print('-----------------------------------------------------------------')\n",
    "\n",
    "    grid.append(t_grid_hat)\n",
    "    MSE.append(mse)\n",
    "\n",
    "    plt.plot(loss_values, label = 'train')\n",
    "    plt.legend(loc='upper right')\n",
    "    plt.show()\n",
    "\n",
    "if args.plt_adrf:\n",
    "    import matplotlib.pyplot as plt\n",
    "\n",
    "    font1 = {'family' : 'Times New Roman',\n",
    "    'weight' : 'normal',\n",
    "    'size'   : 22,\n",
    "    }\n",
    "\n",
    "    font_legend = {'family' : 'Times New Roman',\n",
    "    'weight' : 'normal',\n",
    "    'size'   : 22,\n",
    "    }\n",
    "    plt.figure(figsize=(5, 5))\n",
    "\n",
    "    c1 = 'gold'\n",
    "    c2 = 'red'\n",
    "    #c3 = 'dodgerblue'\n",
    "\n",
    "    truth_grid = t_grid[:,t_grid[0,:].argsort()]\n",
    "    x = truth_grid[0, :]\n",
    "    y = truth_grid[1, :]\n",
    "    plt.plot(x, y, marker='', ls='-', label='Truth', linewidth=4, color=c1)\n",
    "\n",
    "    x = grid[0][0, :]\n",
    "    y = grid[0][1, :]\n",
    "    plt.scatter(x, y, marker='h', label='Vcnet', alpha=1, zorder=2, color=c2, s=20)\n",
    "\n",
    "    #x = grid[0][0, :]\n",
    "    #y = grid[0][1, :]\n",
    "    #plt.scatter(x, y, marker='H', label='Drnet', alpha=1, zorder=3, color=c3, s=20)\n",
    "\n",
    "    plt.yticks(np.arange(-2.0, 1.1, 0.5), fontsize=0, family='Times New Roman')\n",
    "    plt.xticks(np.arange(0, 1.1, 0.2), fontsize=0, family='Times New Roman')\n",
    "    plt.grid()\n",
    "    plt.legend(prop=font_legend, loc='lower left')\n",
    "    plt.xlabel('Treatment', font1)\n",
    "    plt.ylabel('Response', font1)\n",
    "\n",
    "    plt.savefig(save_path + \"/Vc_Dr.pdf\", bbox_inches='tight')"
   ]
  },
  {
   "cell_type": "code",
   "execution_count": null,
   "id": "49681427",
   "metadata": {},
   "outputs": [],
   "source": []
  }
 ],
 "metadata": {
  "kernelspec": {
   "display_name": "Python 3 (ipykernel)",
   "language": "python",
   "name": "python3"
  },
  "language_info": {
   "codemirror_mode": {
    "name": "ipython",
    "version": 3
   },
   "file_extension": ".py",
   "mimetype": "text/x-python",
   "name": "python",
   "nbconvert_exporter": "python",
   "pygments_lexer": "ipython3",
   "version": "3.8.12"
  }
 },
 "nbformat": 4,
 "nbformat_minor": 5
}
